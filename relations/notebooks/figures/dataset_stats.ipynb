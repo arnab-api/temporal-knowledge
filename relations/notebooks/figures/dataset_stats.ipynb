{
 "cells": [
  {
   "cell_type": "code",
   "execution_count": null,
   "metadata": {},
   "outputs": [],
   "source": [
    "%load_ext autoreload\n",
    "%autoreload 2"
   ]
  },
  {
   "cell_type": "code",
   "execution_count": null,
   "metadata": {},
   "outputs": [],
   "source": [
    "import sys\n",
    "sys.path.append(\"../..\")\n",
    "\n",
    "import numpy as np\n",
    "import matplotlib.pyplot as plt\n",
    "import os\n",
    "from src import data\n",
    "import json\n",
    "from tqdm.auto import tqdm\n",
    "from src.metrics import AggregateMetric\n",
    "import logging\n",
    "\n",
    "from src.utils import logging_utils\n",
    "\n",
    "# logging_utils.configure(level=logging.DEBUG)"
   ]
  },
  {
   "cell_type": "code",
   "execution_count": null,
   "metadata": {},
   "outputs": [],
   "source": [
    "# stats = {}\n",
    "\n",
    "# dataset = data.load_dataset()\n",
    "# for relation in dataset:\n",
    "#     stats[relation.name] = {\n",
    "#         \"name\": relation.name,\n",
    "#         \"category\": relation.properties.relation_type,\n",
    "#         \"num_samples\": len(relation.samples)\n",
    "#     }\n",
    "\n",
    "# with open(\"stats/data.json\", \"w\") as f:\n",
    "#     json.dump(stats, f, indent=2)"
   ]
  },
  {
   "cell_type": "code",
   "execution_count": null,
   "metadata": {},
   "outputs": [],
   "source": [
    "# ############################################\n",
    "# sweep_root = \"../../results/sweep-24-trials\"\n",
    "# # sweep_root = \"../../results/sweep-bare\"\n",
    "# model_name = \"llama-13b\" # gptj | gpt2-xl | llama-13b\n",
    "# ############################################\n",
    "\n",
    "# sweep_path = f\"{sweep_root}/{model_name}\""
   ]
  },
  {
   "cell_type": "code",
   "execution_count": null,
   "metadata": {},
   "outputs": [],
   "source": [
    "# from src.utils.sweep_utils import read_sweep_results\n",
    "\n",
    "\n",
    "# sweep_results = read_sweep_results(sweep_path, economy=False)\n",
    "# list(sweep_results.keys())"
   ]
  },
  {
   "cell_type": "code",
   "execution_count": null,
   "metadata": {},
   "outputs": [],
   "source": [
    "# with open(\"stats/data.json\", \"r\") as f:\n",
    "#     stats = json.load(f)\n",
    "\n",
    "# for relation in stats:\n",
    "#     if relation not in sweep_results:\n",
    "#         stats[relation][model_name] = f\"--\"\n",
    "#         print(f\"Skipping {relation} -- not found for {model_name}\")\n",
    "#         continue\n",
    "#     trail_tests = np.array([\n",
    "#         trial[\"n_test_samples\"] \n",
    "#         for trial in sweep_results[relation][\"trials\"]\n",
    "#     ])\n",
    "#     # if len(trail_tests) < (3 if model_name != \"llama-13b\" else 2):\n",
    "#     #     stats[relation][model_name] = f\"--\"\n",
    "#     #     print(f\"Skipping {relation} -- not enough trials for {model_name}\")\n",
    "#     #     continue\n",
    "#     # else:\n",
    "#     stats[relation][model_name] = f\"{trail_tests.mean() :.2f} \\pm {trail_tests.std() :.2f}\"\n",
    "\n",
    "# with open(\"stats/data.json\", \"w\") as f:\n",
    "#     json.dump(stats, f, indent=2)"
   ]
  },
  {
   "cell_type": "markdown",
   "metadata": {},
   "source": [
    "## Table 4"
   ]
  },
  {
   "cell_type": "code",
   "execution_count": null,
   "metadata": {},
   "outputs": [],
   "source": [
    "with open(\"stats/data.json\", \"r\") as f:\n",
    "    stats = json.load(f)"
   ]
  },
  {
   "cell_type": "code",
   "execution_count": null,
   "metadata": {},
   "outputs": [],
   "source": [
    "def change_decimal(result):\n",
    "    if result == \"--\":\n",
    "        return result\n",
    "    mean, std = result.split(\" \\pm \")\n",
    "    mean = float(mean)\n",
    "    std = float(std)\n",
    "    return f\"{mean:.1f} \\pm {std:.1f}\""
   ]
  },
  {
   "cell_type": "code",
   "execution_count": null,
   "metadata": {},
   "outputs": [],
   "source": [
    "category = \"bias\"\n",
    "category_stats = [\n",
    "    stats[relation] \n",
    "    for relation in stats \n",
    "    if stats[relation][\"category\"] == category\n",
    "]\n",
    "\n",
    "gpt_j_correct_count = 0\n",
    "num_samples = 0\n",
    "\n",
    "category_stats = sorted(\n",
    "    category_stats, key=lambda x: x[\"num_samples\"], reverse=True\n",
    ")\n",
    "print(len(category_stats))\n",
    "for relation in category_stats:\n",
    "    relation_stats = relation\n",
    "    relation_name = relation_stats[\"name\"]\n",
    "    gptj_count = change_decimal(relation_stats[\"gptj\"])\n",
    "    gpt2_count = change_decimal(relation_stats[\"gpt2-xl\"])\n",
    "    llama_count = change_decimal(relation_stats[\"llama-13b\"])\n",
    "    print(f\"& {relation_name} & ${relation_stats['num_samples']}$ & ${gptj_count}$ & ${gpt2_count}$ & ${llama_count}$ \\\\\\\\ \")\n",
    "\n",
    "    num_samples += relation_stats[\"num_samples\"]\n",
    "    if gptj_count != \"--\":\n",
    "        gpt_j_correct_count += float(gptj_count.split(\" \\pm \")[0])\n",
    "\n",
    "print(\"\\\\hline\")\n",
    "\n",
    "len(category_stats), num_samples, f\"{gpt_j_correct_count:.1f}\""
   ]
  },
  {
   "cell_type": "code",
   "execution_count": null,
   "metadata": {},
   "outputs": [],
   "source": []
  }
 ],
 "metadata": {
  "kernelspec": {
   "display_name": "relations",
   "language": "python",
   "name": "python3"
  },
  "language_info": {
   "codemirror_mode": {
    "name": "ipython",
    "version": 3
   },
   "file_extension": ".py",
   "mimetype": "text/x-python",
   "name": "python",
   "nbconvert_exporter": "python",
   "pygments_lexer": "ipython3",
   "version": "3.10.11"
  }
 },
 "nbformat": 4,
 "nbformat_minor": 2
}
