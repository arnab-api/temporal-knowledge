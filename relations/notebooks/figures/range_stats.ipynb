{
 "cells": [
  {
   "cell_type": "code",
   "execution_count": 1,
   "metadata": {},
   "outputs": [],
   "source": [
    "%load_ext autoreload\n",
    "%autoreload 2"
   ]
  },
  {
   "cell_type": "code",
   "execution_count": 2,
   "metadata": {},
   "outputs": [],
   "source": [
    "import sys\n",
    "sys.path.append(\"../..\")\n",
    "\n",
    "import numpy as np\n",
    "import matplotlib.pyplot as plt\n",
    "import os\n",
    "from src import data\n",
    "import json\n",
    "from tqdm.auto import tqdm\n",
    "from src.metrics import AggregateMetric\n",
    "import logging\n",
    "\n",
    "from src.utils import logging_utils\n",
    "from src.models import load_model\n",
    "\n",
    "\n",
    "# logging_utils.configure(level=logging.DEBUG)"
   ]
  },
  {
   "cell_type": "code",
   "execution_count": 3,
   "metadata": {},
   "outputs": [],
   "source": [
    "# stats = {}\n",
    "\n",
    "# dataset = data.load_dataset()\n",
    "# for relation in dataset:\n",
    "#     stats[relation.name] = {\n",
    "#         \"name\": relation.name,\n",
    "#         \"category\": relation.properties.relation_type,\n",
    "#         \"num_samples\": len(relation.samples),\n",
    "#         \"|range|\": len(set(relation.range))\n",
    "#     }\n",
    "\n",
    "# with open(\"stats/range_stats.json\", \"w\") as f:\n",
    "#     json.dump(stats, f, indent=2)"
   ]
  },
  {
   "cell_type": "code",
   "execution_count": 3,
   "metadata": {},
   "outputs": [],
   "source": [
    "# model_name = \"llama\"\n",
    "\n",
    "# mt = load_model(model_name, fp16=model_name != \"gpt2-xl\", device=\"cuda\")"
   ]
  },
  {
   "cell_type": "code",
   "execution_count": 33,
   "metadata": {},
   "outputs": [
    {
     "data": {
      "text/plain": [
       "'woman'"
      ]
     },
     "execution_count": 33,
     "metadata": {},
     "output_type": "execute_result"
    }
   ],
   "source": [
    "# tok_id = mt.tokenizer(\" 1996\").input_ids[2]\n",
    "# mt.tokenizer.decode(tok_id)"
   ]
  },
  {
   "cell_type": "code",
   "execution_count": 4,
   "metadata": {},
   "outputs": [],
   "source": [
    "# \" 1996\".isnumeric()"
   ]
  },
  {
   "cell_type": "code",
   "execution_count": 5,
   "metadata": {},
   "outputs": [],
   "source": [
    "# with open(\"stats/range_stats.json\", \"r\") as f:\n",
    "#     stats = json.load(f)\n",
    "\n",
    "# dataset = data.load_dataset()\n",
    "# prefix = \" \" if model_name != \"llama\" else \"\"\n",
    "\n",
    "# for relation in dataset:\n",
    "#     if relation.name not in stats:\n",
    "#         continue\n",
    "#     first_tokens = []\n",
    "#     for obj in relation.range:\n",
    "#         idx = 0\n",
    "#         if model_name == \"llama\":\n",
    "#             idx = 2 if obj.isnumeric() else 1\n",
    "#         tok_id = mt.tokenizer(prefix + obj).input_ids[idx]\n",
    "#         # print(idx, tok_id, f\"`{obj}` | `{mt.tokenizer.decode(tok_id)}`\")\n",
    "#         first_tokens.append(mt.tokenizer.decode(tok_id))\n",
    "#     stats[relation.name][model_name] = len(set(first_tokens))\n",
    "\n",
    "# with open(\"stats/range_stats.json\", \"w\") as f:\n",
    "#     json.dump(stats, f, indent=2)"
   ]
  },
  {
   "cell_type": "markdown",
   "metadata": {},
   "source": [
    "## Table 10"
   ]
  },
  {
   "cell_type": "code",
   "execution_count": 6,
   "metadata": {},
   "outputs": [],
   "source": [
    "with open(\"stats/range_stats.json\", \"r\") as f:\n",
    "    stats = json.load(f)"
   ]
  },
  {
   "cell_type": "code",
   "execution_count": 29,
   "metadata": {},
   "outputs": [
    {
     "name": "stdout",
     "output_type": "stream",
     "text": [
      "\\begin{tabular}{lllll}\n",
      "Relation & |range| & GPT-J & GPT2-xl & LLaMa-13B \\\\\n",
      "adjective antonym & $95$ & $100.0\\%\\;(95)$ & $100.0\\%\\;(95)$ & $98.9\\%\\;(94)$ \\\\\n",
      "adjective comparative & $57$ & $100.0\\%\\;(57)$ & $100.0\\%\\;(57)$ & $93.0\\%\\;(53)$ \\\\\n",
      "adjective superlative & $79$ & $97.5\\%\\;(77)$ & $97.5\\%\\;(77)$ & $98.7\\%\\;(78)$ \\\\\n",
      "city in country & $21$ & $95.2\\%\\;(20)$ & $95.2\\%\\;(20)$ & $95.2\\%\\;(20)$ \\\\\n",
      "company CEO & $287$ & $72.5\\%\\;(208)$ & $72.5\\%\\;(208)$ & $67.6\\%\\;(194)$ \\\\\n",
      "company hq & $163$ & $100.0\\%\\;(163)$ & $100.0\\%\\;(163)$ & $93.3\\%\\;(152)$ \\\\\n",
      "country currency & $23$ & $100.0\\%\\;(23)$ & $100.0\\%\\;(23)$ & $91.3\\%\\;(21)$ \\\\\n",
      "landmark in country & $91$ & $100.0\\%\\;(91)$ & $100.0\\%\\;(91)$ & $97.8\\%\\;(89)$ \\\\\n",
      "person father & $968$ & $41.3\\%\\;(400)$ & $41.3\\%\\;(400)$ & $38.9\\%\\;(377)$ \\\\\n",
      "person lead singer of band & $21$ & $85.7\\%\\;(18)$ & $85.7\\%\\;(18)$ & $85.7\\%\\;(18)$ \\\\\n",
      "person mother & $962$ & $39.5\\%\\;(380)$ & $39.5\\%\\;(380)$ & $31.9\\%\\;(307)$ \\\\\n",
      "person occupation & $31$ & $100.0\\%\\;(31)$ & $100.0\\%\\;(31)$ & $93.5\\%\\;(29)$ \\\\\n",
      "person university & $69$ & $53.6\\%\\;(37)$ & $53.6\\%\\;(37)$ & $50.7\\%\\;(35)$ \\\\\n",
      "pokemon evolution & $44$ & $90.9\\%\\;(40)$ & $90.9\\%\\;(40)$ & $81.8\\%\\;(36)$ \\\\\n",
      "president birth year & $15$ & $60.0\\%\\;(9)$ & $60.0\\%\\;(9)$ & $6.7\\%\\;(1)$ \\\\\n",
      "president election year & $18$ & $77.8\\%\\;(14)$ & $77.8\\%\\;(14)$ & $11.1\\%\\;(2)$ \\\\\n",
      "product by company & $30$ & $100.0\\%\\;(30)$ & $100.0\\%\\;(30)$ & $86.7\\%\\;(26)$ \\\\\n",
      "star constellation name & $31$ & $93.5\\%\\;(29)$ & $93.5\\%\\;(29)$ & $87.1\\%\\;(27)$ \\\\\n",
      "superhero archnemesis & $90$ & $84.4\\%\\;(76)$ & $84.4\\%\\;(76)$ & $81.1\\%\\;(73)$ \\\\\n",
      "superhero person & $100$ & $89.0\\%\\;(89)$ & $89.0\\%\\;(89)$ & $84.0\\%\\;(84)$ \\\\\n",
      "task done by tool & $51$ & $98.0\\%\\;(50)$ & $98.0\\%\\;(50)$ & $90.2\\%\\;(46)$ \\\\\n",
      "\\end{tabular}\n",
      "\n"
     ]
    }
   ],
   "source": [
    "relation_stats = [\n",
    "    stats[relation] \n",
    "    for relation in stats \n",
    "]\n",
    "\n",
    "relation_stats = sorted(\n",
    "    relation_stats, key=lambda x: x[\"name\"],\n",
    ")\n",
    "\n",
    "table = []\n",
    "unambiguous_range = 0\n",
    "gptj_percent = []\n",
    "gpt2xl_percent = []\n",
    "llama_percent = []\n",
    "\n",
    "def check_range_mismatch(relation_stat):\n",
    "    for unique_first_tokens in [relation_stat[\"gptj\"], relation_stat[\"gpt2-xl\"], relation_stat[\"llama\"]]:\n",
    "        if unique_first_tokens != relation_stat[\"|range|\"]:\n",
    "            return False\n",
    "    return True\n",
    "\n",
    "for relation in relation_stats:\n",
    "    if not check_range_mismatch(relation):\n",
    "        gptj = relation[\"gptj\"] * 100 / relation[\"|range|\"]\n",
    "        gpt2xl = relation[\"gpt2-xl\"] * 100 / relation[\"|range|\"]\n",
    "        llama = relation[\"llama\"] * 100 / relation[\"|range|\"]\n",
    "        table.append({\n",
    "            \"Relation\": f'{relation[\"name\"]}',\n",
    "            \"|range|\": f'${relation[\"|range|\"]}$',\n",
    "            \"GPT-J\": f'${gptj:.1f}\\%\\;({relation[\"gptj\"]})$',\n",
    "            \"GPT2-xl\": f'${gpt2xl:.1f}\\%\\;({relation[\"gpt2-xl\"]})$',\n",
    "            \"LLaMa-13B\": f'${llama:.1f}\\%\\;({relation[\"llama\"]})$',\n",
    "        })\n",
    "        gptj_percent.append(gptj)\n",
    "        gpt2xl_percent.append(gpt2xl)\n",
    "        if relation[\"name\"].startswith(\"president\"):\n",
    "            continue\n",
    "        llama_percent.append(llama)\n",
    "    else:\n",
    "        unambiguous_range += relation[\"|range|\"]\n",
    "        gptj_percent.append(100)\n",
    "        gpt2xl_percent.append(100)\n",
    "        llama_percent.append(100)\n",
    "\n",
    "import pandas as pd\n",
    "df = pd.DataFrame(table)\n",
    "print(df.style.hide(axis = \"index\").to_latex())"
   ]
  },
  {
   "cell_type": "code",
   "execution_count": 30,
   "metadata": {},
   "outputs": [
    {
     "data": {
      "text/plain": [
       "26"
      ]
     },
     "execution_count": 30,
     "metadata": {},
     "output_type": "execute_result"
    }
   ],
   "source": [
    "len(relation_stats) - len(table)"
   ]
  },
  {
   "cell_type": "code",
   "execution_count": 31,
   "metadata": {},
   "outputs": [
    {
     "name": "stdout",
     "output_type": "stream",
     "text": [
      "$93.17 \\pm 15.04$\n",
      "$93.17 \\pm 15.04$\n",
      "$92.17 \\pm 15.57$\n"
     ]
    }
   ],
   "source": [
    "for avg in [gptj_percent, gpt2xl_percent, llama_percent]:\n",
    "    print(f\"${np.mean(avg):.2f} \\pm {np.std(avg):.2f}$\")"
   ]
  },
  {
   "cell_type": "code",
   "execution_count": null,
   "metadata": {},
   "outputs": [],
   "source": []
  }
 ],
 "metadata": {
  "kernelspec": {
   "display_name": "relations",
   "language": "python",
   "name": "python3"
  },
  "language_info": {
   "codemirror_mode": {
    "name": "ipython",
    "version": 3
   },
   "file_extension": ".py",
   "mimetype": "text/x-python",
   "name": "python",
   "nbconvert_exporter": "python",
   "pygments_lexer": "ipython3",
   "version": "3.10.11"
  }
 },
 "nbformat": 4,
 "nbformat_minor": 2
}
