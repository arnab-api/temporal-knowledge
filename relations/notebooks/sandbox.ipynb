{
 "cells": [
  {
   "cell_type": "code",
   "execution_count": null,
   "id": "8134571c",
   "metadata": {},
   "outputs": [],
   "source": [
    "import sys"
   ]
  },
  {
   "cell_type": "code",
   "execution_count": null,
   "id": "270bedfd",
   "metadata": {},
   "outputs": [],
   "source": [
    "import transformers\n",
    "\n",
    "device = \"cuda:0\"\n",
    "config = \"EleutherAI/gpt-j-6B\"\n",
    "\n",
    "model = transformers.AutoModelForCausalLM.from_pretrained(config, revision=\"float16\", low_cpu_mem_usage=True)\n",
    "model.to(device)\n",
    "\n",
    "tokenizer = transformers.AutoTokenizer.from_pretrained(config)\n",
    "tokenizer.pad_token = tokenizer.eos_token"
   ]
  },
  {
   "cell_type": "code",
   "execution_count": null,
   "id": "9b971c62",
   "metadata": {},
   "outputs": [],
   "source": [
    "from relations import estimate\n",
    "\n",
    "layer = 10\n",
    "r, r_metadata = estimate.relation_operator_from_sample(\n",
    "    model,\n",
    "    tokenizer,\n",
    "    \"The Space Needle\",\n",
    "    \"{} is located in the country of\",\n",
    "    layer=layer,\n",
    "    device=device,\n",
    ")\n",
    "print(r(\"The Great Wall\", subject_token_index=-1, device=device))\n",
    "\n",
    "for x in [\"Steve Jobs\", \"Dallas\", \"The Pyramids of Giza\", \"AT&T Stadium\", \"American Airlines Center\"]:\n",
    "    print(r(x, subject_token_index=-1, device=device))"
   ]
  },
  {
   "cell_type": "code",
   "execution_count": null,
   "id": "9ba61276",
   "metadata": {},
   "outputs": [],
   "source": [
    "r_metadata"
   ]
  },
  {
   "cell_type": "code",
   "execution_count": null,
   "id": "3f356cab",
   "metadata": {},
   "outputs": [],
   "source": []
  }
 ],
 "metadata": {
  "kernelspec": {
   "display_name": "Python 3 (ipykernel)",
   "language": "python",
   "name": "python3"
  },
  "language_info": {
   "codemirror_mode": {
    "name": "ipython",
    "version": 3
   },
   "file_extension": ".py",
   "mimetype": "text/x-python",
   "name": "python",
   "nbconvert_exporter": "python",
   "pygments_lexer": "ipython3",
   "version": "3.10.8"
  }
 },
 "nbformat": 4,
 "nbformat_minor": 5
}
