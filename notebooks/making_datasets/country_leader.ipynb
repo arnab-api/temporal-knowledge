{
 "cells": [
  {
   "cell_type": "code",
   "execution_count": 1,
   "metadata": {},
   "outputs": [],
   "source": [
    "%load_ext autoreload\n",
    "%autoreload 2"
   ]
  },
  {
   "cell_type": "code",
   "execution_count": 2,
   "metadata": {},
   "outputs": [],
   "source": [
    "import os, time, json\n",
    "import pandas as pd\n",
    "from openai import OpenAI\n",
    "from tqdm.auto import tqdm\n",
    "\n",
    "client = OpenAI(\n",
    "    api_key=os.getenv(\"OPENAI_KEY\"),\n",
    ")\n",
    "\n",
    "MODEL_NAME = \"gpt-4\""
   ]
  },
  {
   "cell_type": "code",
   "execution_count": 75,
   "metadata": {},
   "outputs": [
    {
     "name": "stdout",
     "output_type": "stream",
     "text": [
      "filtered from 234 to 148\n"
     ]
    },
    {
     "data": {
      "application/vnd.jupyter.widget-view+json": {
       "model_id": "537d7af2991b42538bb9161b13c077c0",
       "version_major": 2,
       "version_minor": 0
      },
      "text/plain": [
       "Generating:   0%|          | 0/148 [00:00<?, ?it/s]"
      ]
     },
     "metadata": {},
     "output_type": "display_data"
    },
    {
     "name": "stdout",
     "output_type": "stream",
     "text": [
      "Generating ...\n"
     ]
    }
   ],
   "source": [
    "country_title = pd.read_csv(\"../../data/raw/country_title.csv\")\n",
    "country_title_unique = country_title.drop_duplicates(subset=[\"country\"])\n",
    "\n",
    "print(f\"filtered from {country_title.shape[0]} to {country_title_unique.shape[0]}\")\n",
    "\n",
    "progress = tqdm(country_title_unique.iterrows(), desc = \"Generating\", total = country_title_unique.shape[0]) \n",
    "\n",
    "print(\"Generating ...\")\n",
    "\n",
    "for index, row in progress:\n",
    "    country_csv = row[\"country\"]\n",
    "    role = row[\"title\"]\n",
    "    progress.set_description(f\"{country_csv} - {role}\")\n",
    "\n",
    "    prompt = f'''Give me the names of {role}s of {country_csv} in csv till the year 2022. The format is below, please add the names of the column as well.\n",
    "    name, start year, end year\n",
    "    '''\n",
    "\n",
    "    response = client.chat.completions.create(\n",
    "        model=MODEL_NAME,\n",
    "        messages=[\n",
    "            {\"role\": \"system\", \"content\": \"You are a helpful assistant.\"},\n",
    "            {\"role\": \"user\", \"content\": prompt},\n",
    "            # {\"role\": \"user\", \"content\": \"Give me 10 words in english with their german translations.\"},\n",
    "        ],\n",
    "        temperature=0,\n",
    "        max_tokens=7500,\n",
    "    )\n",
    "\n",
    "    with open(f\"../../data/raw/country_leaders/{country_csv}.csv\", \"w\") as f:\n",
    "        f.write(response.choices[0].message.content)\n",
    "\n",
    "    time.sleep(2)"
   ]
  },
  {
   "cell_type": "code",
   "execution_count": 3,
   "metadata": {},
   "outputs": [],
   "source": [
    "# country = \"Bangladesh\"\n",
    "# role = \"Prime Minister\"\n",
    "\n",
    "# prompt = f'''Give me the names of {role}s of {country} in csv till the year 2022. The format is below, please add the names of the column as well.\n",
    "# name, start year, end year\n",
    "# '''\n",
    "\n",
    "# response = client.chat.completions.create(\n",
    "#     model=MODEL_NAME,\n",
    "#     messages=[\n",
    "#         {\"role\": \"system\", \"content\": \"You are a helpful assistant.\"},\n",
    "#         {\"role\": \"user\", \"content\": prompt},\n",
    "#         # {\"role\": \"user\", \"content\": \"Give me 10 words in english with their german translations.\"},\n",
    "#     ],\n",
    "#     temperature=0,\n",
    "#     max_tokens=3500,\n",
    "# )"
   ]
  },
  {
   "cell_type": "code",
   "execution_count": 4,
   "metadata": {},
   "outputs": [],
   "source": [
    "# print(response.choices[0].message.content)"
   ]
  },
  {
   "cell_type": "code",
   "execution_count": 18,
   "metadata": {},
   "outputs": [
    {
     "name": "stdout",
     "output_type": "stream",
     "text": [
      "Somalia - President\n",
      "New Zealand - Prime Minister\n",
      "Sierra Leone - President\n",
      "Gambia - President\n",
      "Singapore - Prime Minister\n",
      "Bosnia and Herzegovina - Chairman of the Presidency\n",
      "Mozambique - President\n",
      "South Africa - President\n",
      "South Sudan - President\n",
      "Madagascar - President\n",
      "Yemen - President\n",
      "Nepal - Prime Minister\n",
      "Canada - Prime Minister\n",
      "Czech Republic - Prime Minister\n",
      "Turkmenistan - President\n",
      "Kosovo - Prime Minister\n",
      "Egypt - President\n",
      "Indonesia - President\n",
      "Russia - President\n",
      "Mauritania - President\n",
      "Central African Republic - President\n",
      "Venezuela - President\n",
      "Rwanda - President\n",
      "Ethiopia - Prime Minister\n",
      "Colombia - President\n",
      "Sudan - Prime Minister\n",
      "Comoros - President\n",
      "Tunisia - President\n",
      "Cyprus - President\n",
      "Thailand - Prime Minister\n",
      "Kuwait - Emir\n",
      "Namibia - President\n",
      "Turkey - President\n",
      "Peru - President\n",
      "Australia - Prime Minister\n",
      "Portugal - Prime Minister\n",
      "Kazakhstan - President\n",
      "Slovakia - Prime Minister\n",
      "Cambodia - Prime Minister\n",
      "Zimbabwe - President\n",
      "Oman - Sultan\n",
      "Djibouti - President\n",
      "Serbia - President\n",
      "Angola - President\n",
      "Switzerland - President\n",
      "Brazil - President\n",
      "Niger - President\n",
      "Sri Lanka - President\n",
      "Mauritius - Prime Minister\n",
      "Italy - Prime Minister\n",
      "Pakistan - Prime Minister\n",
      "Myanmar - President\n",
      "Kenya - President\n",
      "Malaysia - Prime Minister\n",
      "Cameroon - President\n",
      "Botswana - President\n",
      "Gabon - President\n",
      "South Korea - President\n",
      "Equatorial Guinea - Prime Minister\n",
      "Finland - Prime Minister\n",
      "Croatia - Prime Minister\n",
      "Saudi Arabia - King\n",
      "Slovenia - Prime Minister\n",
      "Philippines - President\n",
      "United Arab Emirates - President\n",
      "Bahrain - King\n",
      "Bhutan - Prime Minister\n",
      "Luxembourg - Prime Minister\n",
      "Eswatini - King\n",
      "North Korea - Supreme Leader\n",
      "Mexico - President\n",
      "Moldova - President\n",
      "Jordan - King\n",
      "Vietnam - President\n",
      "Brunei - Sultan\n",
      "Israel - Prime Minister\n",
      "Chad - President\n",
      "Timor-Leste - Prime Minister\n",
      "Liberia - President\n",
      "Norway - Prime Minister\n",
      "Nigeria - President\n",
      "Seychelles - President\n",
      "Maldives - President\n",
      "Bangladesh - Prime Minister\n",
      "China - President\n",
      "Malawi - President\n",
      "France - President\n",
      "Iceland - Prime Minister\n",
      "Mongolia - President\n",
      "Netherlands - Prime Minister\n",
      "Democratic Republic of the Congo - President\n",
      "Albania - Prime Minister\n",
      "Zambia - President\n",
      "Laos - President\n",
      "Armenia - Prime Minister\n",
      "Hungary - Prime Minister\n",
      "Senegal - President\n",
      "Cape Verde - Prime Minister\n",
      "Guinea-Bissau - Prime Minister\n",
      "Kyrgyzstan - President\n",
      "Afghanistan - President\n",
      "Georgia - Prime Minister\n",
      "Ireland - Taoiseach\n",
      "Germany - Chancellor\n",
      "Iran - President\n",
      "Qatar - Emir\n",
      "Austria - Federal Chancellor\n",
      "Côte d'Ivoire - President\n",
      "India - Prime Minister\n",
      "Belarus - President\n",
      "Ghana - President\n",
      "Spain - Prime Minister\n",
      "Mali - President\n",
      "Greece - Prime Minister\n",
      "Algeria - President\n",
      "Togo - President\n",
      "Romania - President\n",
      "Chile - President\n",
      "Sweden - Prime Minister\n",
      "Benin - President\n",
      "Burundi - President\n",
      "Montenegro - President\n",
      "Guinea - President\n",
      "Republic of the Congo - President\n",
      "Ukraine - President\n",
      "Azerbaijan - President\n",
      "Morocco - King\n",
      "Japan - Prime Minister\n",
      "Poland - Prime Minister\n",
      "Uganda - President\n",
      "Libya - Prime Minister\n",
      "Iraq - Prime Minister\n",
      "Syria - President\n",
      "Denmark - Prime Minister\n",
      "Taiwan - President\n",
      "United Kingdom - Prime Minister\n",
      "Lebanon - Prime Minister\n",
      "Tajikistan - President\n",
      "Eritrea - President\n",
      "Belgium - Prime Minister\n",
      "Uzbekistan - President\n",
      "Argentina - President\n",
      "Tanzania - President\n",
      "North Macedonia - Prime Minister\n",
      "Burkina Faso - President\n",
      "Lesotho - Prime Minister\n",
      "Bulgaria - Prime Minister\n"
     ]
    }
   ],
   "source": [
    "def remove_quotes(x):\n",
    "    if isinstance(x, str) == False:\n",
    "        return x\n",
    "    if x.startswith('\"') == False:\n",
    "        return x\n",
    "    return x.replace('\"', '')\n",
    "\n",
    "role_name_df = pd.read_csv(\"../../data/raw/country_leaders/0_country_title.csv\")\n",
    "role_name_dict = {}\n",
    "for index, row in role_name_df.iterrows():\n",
    "    role_name_dict[row[\"country\"]] = row[\"title\"]\n",
    "\n",
    "all_countries = list(os.listdir(\"../../data/raw/country_leaders\"))\n",
    "samples = []\n",
    "\n",
    "for country_csv in all_countries:\n",
    "    if country_csv.startswith(\"0_\"):\n",
    "        continue\n",
    "\n",
    "    leaders_df = pd.read_csv(f\"../../data/raw/country_leaders/{country_csv}\")\n",
    "\n",
    "    country_name = country_csv.split(\".\")[0]\n",
    "    role = role_name_dict[country_name]\n",
    "\n",
    "    print(f\"{country_name} - {role}\")\n",
    "    \n",
    "\n",
    "    for index, row in leaders_df.iterrows():\n",
    "        for year in range(\n",
    "            row[\" start year\"] + 1, # this is usually the election year. 2 people may share the role, thus skip it \n",
    "            row[\" end year\"]        # don't include the last year, again election year\n",
    "        ):\n",
    "            samples.append(\n",
    "                {\n",
    "                    \"subject\": remove_quotes(country_name),\n",
    "                    \"object\": remove_quotes(row[\"name\"]),\n",
    "                    \"<role>\": remove_quotes(role),\n",
    "                    \"<var>\": str(remove_quotes(year)),\n",
    "                }\n",
    "            )"
   ]
  },
  {
   "cell_type": "code",
   "execution_count": 19,
   "metadata": {},
   "outputs": [],
   "source": [
    "# len(samples)\n",
    "json.dump(samples, open(\"data.json\", \"w\"), indent=4)"
   ]
  },
  {
   "cell_type": "code",
   "execution_count": 22,
   "metadata": {},
   "outputs": [
    {
     "data": {
      "text/plain": [
       "['head_of_government.json']"
      ]
     },
     "execution_count": 22,
     "metadata": {},
     "output_type": "execute_result"
    }
   ],
   "source": [
    "relations = list(os.listdir(\"../../data\"))\n",
    "relations.remove(\"raw\")\n",
    "\n",
    "relations"
   ]
  },
  {
   "cell_type": "code",
   "execution_count": null,
   "metadata": {},
   "outputs": [],
   "source": []
  }
 ],
 "metadata": {
  "kernelspec": {
   "display_name": "Python 3",
   "language": "python",
   "name": "python3"
  },
  "language_info": {
   "codemirror_mode": {
    "name": "ipython",
    "version": 3
   },
   "file_extension": ".py",
   "mimetype": "text/x-python",
   "name": "python",
   "nbconvert_exporter": "python",
   "pygments_lexer": "ipython3",
   "version": "3.10.11"
  }
 },
 "nbformat": 4,
 "nbformat_minor": 2
}
