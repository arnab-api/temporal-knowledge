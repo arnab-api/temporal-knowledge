{
 "cells": [
  {
   "cell_type": "code",
   "execution_count": 1,
   "metadata": {},
   "outputs": [],
   "source": [
    "%load_ext autoreload\n",
    "%autoreload 2"
   ]
  },
  {
   "cell_type": "code",
   "execution_count": 68,
   "metadata": {},
   "outputs": [],
   "source": [
    "import os, time, json\n",
    "import pandas as pd\n",
    "from openai import OpenAI\n",
    "from tqdm.auto import tqdm\n",
    "\n",
    "client = OpenAI(\n",
    "    api_key=os.getenv(\"OPENAI_KEY\"),\n",
    ")\n",
    "\n",
    "MODEL_NAME = \"gpt-4\""
   ]
  },
  {
   "cell_type": "code",
   "execution_count": 75,
   "metadata": {},
   "outputs": [
    {
     "name": "stdout",
     "output_type": "stream",
     "text": [
      "filtered from 234 to 148\n"
     ]
    },
    {
     "data": {
      "application/vnd.jupyter.widget-view+json": {
       "model_id": "537d7af2991b42538bb9161b13c077c0",
       "version_major": 2,
       "version_minor": 0
      },
      "text/plain": [
       "Generating:   0%|          | 0/148 [00:00<?, ?it/s]"
      ]
     },
     "metadata": {},
     "output_type": "display_data"
    },
    {
     "name": "stdout",
     "output_type": "stream",
     "text": [
      "Generating ...\n"
     ]
    }
   ],
   "source": [
    "country_title = pd.read_csv(\"../data/raw/country_title.csv\")\n",
    "country_title_unique = country_title.drop_duplicates(subset=[\"country\"])\n",
    "\n",
    "print(f\"filtered from {country_title.shape[0]} to {country_title_unique.shape[0]}\")\n",
    "\n",
    "progress = tqdm(country_title_unique.iterrows(), desc = \"Generating\", total = country_title_unique.shape[0]) \n",
    "\n",
    "print(\"Generating ...\")\n",
    "\n",
    "for index, row in progress:\n",
    "    country = row[\"country\"]\n",
    "    role = row[\"title\"]\n",
    "    progress.set_description(f\"{country} - {role}\")\n",
    "\n",
    "    prompt = f'''Give me the names of {role}s of {country} in csv till the year 2022. The format is below, please add the names of the column as well.\n",
    "    name, start year, end year\n",
    "    '''\n",
    "\n",
    "    response = client.chat.completions.create(\n",
    "        model=MODEL_NAME,\n",
    "        messages=[\n",
    "            {\"role\": \"system\", \"content\": \"You are a helpful assistant.\"},\n",
    "            {\"role\": \"user\", \"content\": prompt},\n",
    "            # {\"role\": \"user\", \"content\": \"Give me 10 words in english with their german translations.\"},\n",
    "        ],\n",
    "        temperature=0,\n",
    "        max_tokens=7500,\n",
    "    )\n",
    "\n",
    "    with open(f\"../data/raw/country_leaders/{country}.csv\", \"w\") as f:\n",
    "        f.write(response.choices[0].message.content)\n",
    "\n",
    "    time.sleep(2)"
   ]
  },
  {
   "cell_type": "code",
   "execution_count": 32,
   "metadata": {},
   "outputs": [],
   "source": [
    "country = \"Bangladesh\"\n",
    "role = \"Prime Minister\"\n",
    "\n",
    "prompt = f'''Give me the names of {role}s of {country} in csv till the year 2022. The format is below, please add the names of the column as well.\n",
    "name, start year, end year\n",
    "'''\n",
    "\n",
    "response = client.chat.completions.create(\n",
    "    model=MODEL_NAME,\n",
    "    messages=[\n",
    "        {\"role\": \"system\", \"content\": \"You are a helpful assistant.\"},\n",
    "        {\"role\": \"user\", \"content\": prompt},\n",
    "        # {\"role\": \"user\", \"content\": \"Give me 10 words in english with their german translations.\"},\n",
    "    ],\n",
    "    temperature=0,\n",
    "    max_tokens=3500,\n",
    ")"
   ]
  },
  {
   "cell_type": "code",
   "execution_count": 33,
   "metadata": {},
   "outputs": [
    {
     "name": "stdout",
     "output_type": "stream",
     "text": [
      "name, start year, end year\n",
      "Tajuddin Ahmad, 1971, 1972\n",
      "Muhammad Mansur Ali, 1972, 1975\n",
      "Mujibur Rahman, 1975, 1975\n",
      "Shah Azizur Rahman, 1977, 1981\n",
      "Ataur Rahman Khan, 1981, 1982\n",
      "Abdus Sattar, 1982, 1982\n",
      "Shah Azizur Rahman, 1982, 1982\n",
      "Kazi Zafar Ahmed, 1988, 1991\n",
      "Begum Khaleda Zia, 1991, 1996\n",
      "Hasina Wazed, 1996, 2001\n",
      "Begum Khaleda Zia, 2001, 2006\n",
      "Fakhruddin Ahmed, 2007, 2009\n",
      "Hasina Wazed, 2009, 2022\n"
     ]
    }
   ],
   "source": [
    "print(response.choices[0].message.content)"
   ]
  },
  {
   "cell_type": "code",
   "execution_count": 72,
   "metadata": {},
   "outputs": [],
   "source": [
    "with open(\"../data/raw/country_leaders/bd.csv\", \"w\") as f:\n",
    "    f.write(response.choices[0].message.content)"
   ]
  },
  {
   "cell_type": "code",
   "execution_count": null,
   "metadata": {},
   "outputs": [],
   "source": [
    "pd.read_csv"
   ]
  }
 ],
 "metadata": {
  "kernelspec": {
   "display_name": "Python 3",
   "language": "python",
   "name": "python3"
  },
  "language_info": {
   "codemirror_mode": {
    "name": "ipython",
    "version": 3
   },
   "file_extension": ".py",
   "mimetype": "text/x-python",
   "name": "python",
   "nbconvert_exporter": "python",
   "pygments_lexer": "ipython3",
   "version": "3.10.11"
  }
 },
 "nbformat": 4,
 "nbformat_minor": 2
}
