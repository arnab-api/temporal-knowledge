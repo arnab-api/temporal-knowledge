{
 "cells": [
  {
   "cell_type": "code",
   "execution_count": 1,
   "metadata": {},
   "outputs": [],
   "source": [
    "%load_ext autoreload\n",
    "%autoreload 2"
   ]
  },
  {
   "cell_type": "code",
   "execution_count": 13,
   "metadata": {},
   "outputs": [],
   "source": [
    "import sys\n",
    "sys.path.append('../')\n",
    "import copy\n",
    "\n",
    "import logging\n",
    "from src.utils import logging_utils\n",
    "\n",
    "logger = logging.getLogger(__name__)\n",
    "\n",
    "logging.basicConfig(\n",
    "    level=logging.INFO,\n",
    "    format = logging_utils.DEFAULT_FORMAT,\n",
    "    datefmt=logging_utils.DEFAULT_DATEFMT,\n",
    "    stream=sys.stdout\n",
    ")"
   ]
  },
  {
   "cell_type": "code",
   "execution_count": 3,
   "metadata": {},
   "outputs": [
    {
     "name": "stdout",
     "output_type": "stream",
     "text": [
      "2023-12-12 16:51:48 src.dataset INFO     initialized relation -> \"head of government\" with 8354 samples\n"
     ]
    }
   ],
   "source": [
    "from src.dataset import load_dataset, load_relation, fill_template\n",
    "\n",
    "relation = load_relation(\n",
    "    relation_file = \"head_of_government.json\",\n",
    "    default_path=\"../data\"\n",
    ")"
   ]
  },
  {
   "cell_type": "code",
   "execution_count": 4,
   "metadata": {},
   "outputs": [
    {
     "name": "stdout",
     "output_type": "stream",
     "text": [
      "In 1941, Liberia's President was named Edwin Barclay\n",
      "In 2014, Australia's Prime Minister was named Tony Abbott\n",
      "In 2007, Saudi Arabia's King was named Abdullah bin Abdulaziz Al Saud\n",
      "In 1978, Vietnam's President was named Phạm Văn Đồng\n",
      "In 1947, Philippines's President was named Manuel Roxas\n",
      "In 2009, Zambia's President was named\n"
     ]
    }
   ],
   "source": [
    "relation.select_icl_examples(num_icl=5)\n",
    "print(relation[5][0])"
   ]
  },
  {
   "cell_type": "code",
   "execution_count": 5,
   "metadata": {},
   "outputs": [
    {
     "name": "stdout",
     "output_type": "stream",
     "text": [
      "2023-12-12 16:51:50 src.functional INFO     filtered 78 with var=1971, from head of government\n"
     ]
    }
   ],
   "source": [
    "from src import functional\n",
    "relation_1971 = functional.filter_samples_by_var(relation = relation, var = \"1971\")"
   ]
  },
  {
   "cell_type": "code",
   "execution_count": 6,
   "metadata": {},
   "outputs": [
    {
     "data": {
      "text/plain": [
       "[\"In 1971, Turkey's President was named Cevdet Sunay\",\n",
       " \"In 1971, Austria's Federal Chancellor was named Bruno Kreisky\",\n",
       " \"In 1971, Tanzania's President was named Julius Nyerere\",\n",
       " \"In 1971, Italy's Prime Minister was named Emilio Colombo\",\n",
       " \"In 1971, Ethiopia's Prime Minister was named Tsehafi Taezaz Aklilu Habte-Wold\"]"
      ]
     },
     "execution_count": 6,
     "metadata": {},
     "output_type": "execute_result"
    }
   ],
   "source": [
    "relation_1971.few_shot_demonstrations"
   ]
  },
  {
   "cell_type": "code",
   "execution_count": 7,
   "metadata": {},
   "outputs": [
    {
     "name": "stdout",
     "output_type": "stream",
     "text": [
      "2023-12-12 16:51:52 src.dataset INFO     initialized relation -> \"head of government\" with 8354 samples\n"
     ]
    }
   ],
   "source": [
    "dataset = load_dataset(\n",
    "    default_path=\"../data\",\n",
    ")"
   ]
  },
  {
   "cell_type": "markdown",
   "metadata": {},
   "source": [
    "## Filter By Model Knowledge"
   ]
  },
  {
   "cell_type": "code",
   "execution_count": 8,
   "metadata": {},
   "outputs": [
    {
     "data": {
      "application/vnd.jupyter.widget-view+json": {
       "model_id": "a5d8f4906bff45cb86e78ee9a3d6e9bf",
       "version_major": 2,
       "version_minor": 0
      },
      "text/plain": [
       "Loading checkpoint shards:   0%|          | 0/2 [00:00<?, ?it/s]"
      ]
     },
     "metadata": {},
     "output_type": "display_data"
    },
    {
     "name": "stdout",
     "output_type": "stream",
     "text": [
      "2023-12-12 16:51:59 src.models INFO     loaded model <meta-llama/Llama-2-7b-hf> | size: 12980.516 MB\n"
     ]
    }
   ],
   "source": [
    "from src.models import ModelandTokenizer\n",
    "\n",
    "model_name = \"meta-llama/Llama-2-7b-hf\"\n",
    "mt = ModelandTokenizer(model_path=model_name)"
   ]
  },
  {
   "cell_type": "code",
   "execution_count": 20,
   "metadata": {},
   "outputs": [
    {
     "name": "stdout",
     "output_type": "stream",
     "text": [
      "2023-12-12 18:45:28 src.dataset INFO     initialized relation -> \"head of government\" with 500 samples\n"
     ]
    }
   ],
   "source": [
    "relation = load_relation(\n",
    "    relation_file = \"head_of_government.json\",\n",
    "    num_icl = 0,                          # initialize with zero-shot\n",
    "    default_path=\"../data\",\n",
    "    batch_size=500\n",
    ")\n",
    "\n",
    "all_samples = copy.deepcopy(relation.samples)"
   ]
  },
  {
   "cell_type": "code",
   "execution_count": 21,
   "metadata": {},
   "outputs": [
    {
     "name": "stdout",
     "output_type": "stream",
     "text": [
      "2023-12-12 18:45:48 src.functional INFO     filtered relation \"head of government\" to 181 samples\n"
     ]
    }
   ],
   "source": [
    "# filter zero-shot model knowledge\n",
    "relation = functional.filter_samples_by_model_knowledge(\n",
    "    mt = mt,\n",
    "    relation = relation,\n",
    ")"
   ]
  },
  {
   "cell_type": "code",
   "execution_count": 22,
   "metadata": {},
   "outputs": [
    {
     "name": "stdout",
     "output_type": "stream",
     "text": [
      "2023-12-12 18:46:13 src.functional INFO     filtered relation \"head of government\" to 363 samples\n"
     ]
    }
   ],
   "source": [
    "relation.properties[\"num_icl\"] = 5\n",
    "relation.select_icl_examples(num_icl=5)\n",
    "\n",
    "relation.samples = all_samples\n",
    "\n",
    "# filter model knowledge with `num_icl` shots\n",
    "relation = functional.filter_samples_by_model_knowledge(\n",
    "    mt = mt,\n",
    "    relation = relation,\n",
    ")"
   ]
  },
  {
   "cell_type": "code",
   "execution_count": null,
   "metadata": {},
   "outputs": [],
   "source": []
  }
 ],
 "metadata": {
  "kernelspec": {
   "display_name": "Python 3",
   "language": "python",
   "name": "python3"
  },
  "language_info": {
   "codemirror_mode": {
    "name": "ipython",
    "version": 3
   },
   "file_extension": ".py",
   "mimetype": "text/x-python",
   "name": "python",
   "nbconvert_exporter": "python",
   "pygments_lexer": "ipython3",
   "version": "3.10.11"
  }
 },
 "nbformat": 4,
 "nbformat_minor": 2
}
