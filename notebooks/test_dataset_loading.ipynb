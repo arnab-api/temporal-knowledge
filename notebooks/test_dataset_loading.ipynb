{
 "cells": [
  {
   "cell_type": "code",
   "execution_count": 2,
   "metadata": {},
   "outputs": [],
   "source": [
    "%load_ext autoreload\n",
    "%autoreload 2"
   ]
  },
  {
   "cell_type": "code",
   "execution_count": 3,
   "metadata": {},
   "outputs": [],
   "source": [
    "import sys\n",
    "sys.path.append('../')\n",
    "import copy\n",
    "\n",
    "import logging\n",
    "from src.utils import logging_utils\n",
    "\n",
    "logger = logging.getLogger(__name__)\n",
    "\n",
    "logging.basicConfig(\n",
    "    level=logging.INFO,\n",
    "    format = logging_utils.DEFAULT_FORMAT,\n",
    "    datefmt=logging_utils.DEFAULT_DATEFMT,\n",
    "    stream=sys.stdout\n",
    ")"
   ]
  },
  {
   "cell_type": "code",
   "execution_count": 4,
   "metadata": {},
   "outputs": [
    {
     "name": "stdout",
     "output_type": "stream",
     "text": [
      "2023-12-15 16:02:07 src.dataset INFO     initialized relation -> \"gender head of govt\" with 7757 samples\n"
     ]
    }
   ],
   "source": [
    "from src.dataset import load_dataset, load_relation, fill_template\n",
    "\n",
    "relation = load_relation(\n",
    "    # relation_file = \"head_of_government.json\",\n",
    "    relation_file = \"gender_head_of_govt.json\",\n",
    "    default_path=\"../data\"\n",
    ")"
   ]
  },
  {
   "cell_type": "code",
   "execution_count": 5,
   "metadata": {},
   "outputs": [
    {
     "name": "stdout",
     "output_type": "stream",
     "text": [
      "In 1976, Ireland's Taoiseach was a man\n",
      "In 1988, Philippines's President was a woman\n",
      "In 1997, Bangladesh's Prime Minister was a woman\n",
      "In 2020, Togo's President was a man\n",
      "In 2001, Yemen's President was a man\n",
      "In 1968, Philippines's President was a\n"
     ]
    }
   ],
   "source": [
    "relation.select_icl_examples(num_icl=5)\n",
    "print(relation[5][0])"
   ]
  },
  {
   "cell_type": "code",
   "execution_count": 6,
   "metadata": {},
   "outputs": [
    {
     "name": "stdout",
     "output_type": "stream",
     "text": [
      "2023-12-15 16:02:07 src.functional INFO     filtered 81 with var=1971, from gender head of govt\n"
     ]
    }
   ],
   "source": [
    "from src import functional\n",
    "relation_1971 = functional.filter_samples_by_var(relation = relation, var = \"1971\")"
   ]
  },
  {
   "cell_type": "code",
   "execution_count": 7,
   "metadata": {},
   "outputs": [
    {
     "data": {
      "text/plain": [
       "[\"In 1971, Taiwan's President was a man\",\n",
       " \"In 1971, Malawi's President was a man\",\n",
       " \"In 1971, Israel's Prime Minister was a woman\",\n",
       " \"In 1971, Sudan's Prime Minister was a man\",\n",
       " \"In 1971, India's Prime Minister was a woman\"]"
      ]
     },
     "execution_count": 7,
     "metadata": {},
     "output_type": "execute_result"
    }
   ],
   "source": [
    "relation_1971.few_shot_demonstrations"
   ]
  },
  {
   "cell_type": "code",
   "execution_count": 8,
   "metadata": {},
   "outputs": [
    {
     "name": "stdout",
     "output_type": "stream",
     "text": [
      "2023-12-15 16:02:08 src.dataset INFO     initialized relation -> \"head of government\" with 8354 samples\n",
      "2023-12-15 16:02:08 src.dataset INFO     initialized relation -> \"gender head of govt\" with 7757 samples\n"
     ]
    }
   ],
   "source": [
    "dataset = load_dataset(\n",
    "    default_path=\"../data\",\n",
    ")"
   ]
  },
  {
   "cell_type": "markdown",
   "metadata": {},
   "source": [
    "## Filter By Model Knowledge"
   ]
  },
  {
   "cell_type": "code",
   "execution_count": 9,
   "metadata": {},
   "outputs": [
    {
     "data": {
      "application/vnd.jupyter.widget-view+json": {
       "model_id": "acc3f42aecb94faab196f3c771dbde04",
       "version_major": 2,
       "version_minor": 0
      },
      "text/plain": [
       "Loading checkpoint shards:   0%|          | 0/2 [00:00<?, ?it/s]"
      ]
     },
     "metadata": {},
     "output_type": "display_data"
    },
    {
     "name": "stdout",
     "output_type": "stream",
     "text": [
      "2023-12-15 16:02:14 src.models INFO     loaded model <meta-llama/Llama-2-7b-hf> | size: 12980.516 MB\n"
     ]
    }
   ],
   "source": [
    "from src.models import ModelandTokenizer\n",
    "\n",
    "model_name = \"meta-llama/Llama-2-7b-hf\"\n",
    "mt = ModelandTokenizer(model_path=model_name)"
   ]
  },
  {
   "cell_type": "code",
   "execution_count": 10,
   "metadata": {},
   "outputs": [],
   "source": [
    "#! This filtering strategy may cause problem for `gender_head_of_govt`, the model is almost always happy to predict `male` with zero-shot\n",
    "\n",
    "# relation = load_relation(\n",
    "#     relation_file = \"head_of_government.json\",\n",
    "#     num_icl = 0,                          # initialize with zero-shot\n",
    "#     default_path=\"../data\",\n",
    "#     batch_size=500\n",
    "# )\n",
    "\n",
    "# all_samples = copy.deepcopy(relation.samples)\n",
    "\n",
    "# # filter zero-shot model knowledge\n",
    "# relation = functional.filter_samples_by_model_knowledge(\n",
    "#     mt = mt,\n",
    "#     relation = relation,\n",
    "# )\n",
    "\n",
    "# relation.properties[\"num_icl\"] = 5\n",
    "# relation.select_icl_examples(num_icl=5)\n",
    "\n",
    "# relation.samples = all_samples\n",
    "\n",
    "# # filter model knowledge with `num_icl` shots\n",
    "# relation = functional.filter_samples_by_model_knowledge(\n",
    "#     mt = mt,\n",
    "#     relation = relation,\n",
    "# )"
   ]
  },
  {
   "cell_type": "code",
   "execution_count": 11,
   "metadata": {},
   "outputs": [
    {
     "name": "stdout",
     "output_type": "stream",
     "text": [
      "2023-12-15 16:02:14 src.dataset INFO     initialized relation -> \"gender head of govt\" with 357 samples\n"
     ]
    },
    {
     "data": {
      "text/plain": [
       "{'man': 178, 'woman': 179}"
      ]
     },
     "execution_count": 11,
     "metadata": {},
     "output_type": "execute_result"
    }
   ],
   "source": [
    "relation = load_relation(\n",
    "    relation_file = \"gender_head_of_govt.json\",\n",
    "    num_icl = 5,                          # initialize with 5-shot\n",
    "    default_path=\"../data\",\n",
    "    batch_size=500\n",
    ")\n",
    "\n",
    "all_samples = copy.deepcopy(relation.samples)\n",
    "\n",
    "relation.range_stats"
   ]
  },
  {
   "cell_type": "code",
   "execution_count": 12,
   "metadata": {},
   "outputs": [],
   "source": [
    "# # prompt_template = relation.prompt_template\n",
    "# # relation.prompt_template = relation.prompt_template_zs\n",
    "\n",
    "# print(relation.prompt_template)\n",
    "# print(relation[10][0])"
   ]
  },
  {
   "cell_type": "code",
   "execution_count": 13,
   "metadata": {},
   "outputs": [
    {
     "name": "stdout",
     "output_type": "stream",
     "text": [
      "2023-12-15 16:02:26 src.functional INFO     filtered relation \"gender head of govt\" to 196 samples (with 5-shots)\n"
     ]
    },
    {
     "data": {
      "text/plain": [
       "{'man': 175, 'woman': 21}"
      ]
     },
     "execution_count": 13,
     "metadata": {},
     "output_type": "execute_result"
    }
   ],
   "source": [
    "# Check model knowledge (few-shot examples used to contextualize may be of bad quality -- not known to model)\n",
    "# performance tends to vary a lot depending on the few-shot examples\n",
    "\n",
    "relation = functional.filter_samples_by_model_knowledge(\n",
    "    mt = mt,\n",
    "    relation = relation,\n",
    ")\n",
    "\n",
    "relation.range_stats"
   ]
  },
  {
   "cell_type": "code",
   "execution_count": 14,
   "metadata": {},
   "outputs": [],
   "source": [
    "# # Now, select ICL examples from the filtered set that the model knows\n",
    "# relation.select_icl_examples(num_icl=5, consider_few_shot_samples=False)\n",
    "# relation.samples = all_samples\n",
    "\n",
    "# # Use the known samples to filter by model knowledge again\n",
    "# relation = functional.filter_samples_by_model_knowledge(\n",
    "#     mt = mt,\n",
    "#     relation = relation,\n",
    "# )\n",
    "# relation.range_stats"
   ]
  },
  {
   "cell_type": "code",
   "execution_count": 15,
   "metadata": {},
   "outputs": [
    {
     "data": {
      "text/plain": [
       "{'man': 21, 'woman': 21}"
      ]
     },
     "execution_count": 15,
     "metadata": {},
     "output_type": "execute_result"
    }
   ],
   "source": [
    "from src.dataset import balance_samples\n",
    "relation.samples = balance_samples(relation.samples)\n",
    "\n",
    "relation.range_stats"
   ]
  },
  {
   "cell_type": "code",
   "execution_count": null,
   "metadata": {},
   "outputs": [],
   "source": []
  }
 ],
 "metadata": {
  "kernelspec": {
   "display_name": "Python 3",
   "language": "python",
   "name": "python3"
  },
  "language_info": {
   "codemirror_mode": {
    "name": "ipython",
    "version": 3
   },
   "file_extension": ".py",
   "mimetype": "text/x-python",
   "name": "python",
   "nbconvert_exporter": "python",
   "pygments_lexer": "ipython3",
   "version": "3.10.11"
  }
 },
 "nbformat": 4,
 "nbformat_minor": 2
}
