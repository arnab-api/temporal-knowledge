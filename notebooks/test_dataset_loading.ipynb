{
 "cells": [
  {
   "cell_type": "code",
   "execution_count": 1,
   "metadata": {},
   "outputs": [],
   "source": [
    "%load_ext autoreload\n",
    "%autoreload 2"
   ]
  },
  {
   "cell_type": "code",
   "execution_count": 2,
   "metadata": {},
   "outputs": [],
   "source": [
    "import sys\n",
    "sys.path.append('../')\n",
    "\n",
    "import logging\n",
    "from src.utils import logging_utils\n",
    "\n",
    "logger = logging.getLogger(__name__)\n",
    "\n",
    "logging.basicConfig(\n",
    "    level=logging.DEBUG,\n",
    "    format = logging_utils.DEFAULT_FORMAT,\n",
    "    datefmt=logging_utils.DEFAULT_DATEFMT,\n",
    "    stream=sys.stdout\n",
    ")"
   ]
  },
  {
   "cell_type": "code",
   "execution_count": 29,
   "metadata": {},
   "outputs": [
    {
     "name": "stdout",
     "output_type": "stream",
     "text": [
      " >>> len(self.samples)=8359\n",
      "2023-12-12 14:49:57 src.dataset INFO     initialized relation -> head of government with 8354 samples\n"
     ]
    }
   ],
   "source": [
    "from src.dataset import load_dataset, load_relation, fill_template\n",
    "\n",
    "relation = load_relation(\n",
    "    relation_file = \"head_of_government.json\",\n",
    "    default_path=\"../data\"\n",
    ")"
   ]
  },
  {
   "cell_type": "code",
   "execution_count": 30,
   "metadata": {},
   "outputs": [
    {
     "name": "stdout",
     "output_type": "stream",
     "text": [
      "In 1975, Syria's President was named Hafez al-Assad\n",
      "In 1961, India's Prime Minister was named Jawaharlal Nehru\n",
      "In 2008, Kenya's President was named Mwai Kibaki\n",
      "In 2021, Brazil's President was named Jair Bolsonaro\n",
      "In 1977, Chile's President was named Augusto Pinochet\n",
      "In 1966, Somalia's President was named\n"
     ]
    }
   ],
   "source": [
    "print(relation[5][0])"
   ]
  },
  {
   "cell_type": "code",
   "execution_count": 31,
   "metadata": {},
   "outputs": [
    {
     "name": "stdout",
     "output_type": "stream",
     "text": [
      "2023-12-12 14:50:08 src.dataset INFO     filtered 78 with var=1971, from head of government\n"
     ]
    },
    {
     "name": "stdout",
     "output_type": "stream",
     "text": [
      " >>> len(self.samples)=78\n"
     ]
    }
   ],
   "source": [
    "relation_1971 = relation.filter_by_var(var = \"1971\")"
   ]
  },
  {
   "cell_type": "code",
   "execution_count": 32,
   "metadata": {},
   "outputs": [
    {
     "data": {
      "text/plain": [
       "[\"In 1971, Yemen's President was named Abdul Rahman al-Iryani\",\n",
       " \"In 1971, Cyprus's President was named Makarios III\",\n",
       " \"In 1971, Central African Republic's President was named Jean-Bédel Bokassa\",\n",
       " \"In 1971, Ireland's Taoiseach was named Jack Lynch\",\n",
       " \"In 1971, Taiwan's President was named Chiang Kai-shek\"]"
      ]
     },
     "execution_count": 32,
     "metadata": {},
     "output_type": "execute_result"
    }
   ],
   "source": [
    "relation_1971.few_shot_demonstrations"
   ]
  },
  {
   "cell_type": "code",
   "execution_count": 40,
   "metadata": {},
   "outputs": [
    {
     "name": "stdout",
     "output_type": "stream",
     "text": [
      " >>> len(self.samples)=8359\n",
      "2023-12-12 14:55:42 src.dataset INFO     initialized relation -> head of government with 8354 samples\n"
     ]
    }
   ],
   "source": [
    "dataset = load_dataset(\n",
    "    default_path=\"../data\",\n",
    ")"
   ]
  },
  {
   "cell_type": "code",
   "execution_count": null,
   "metadata": {},
   "outputs": [],
   "source": []
  }
 ],
 "metadata": {
  "kernelspec": {
   "display_name": "Python 3",
   "language": "python",
   "name": "python3"
  },
  "language_info": {
   "codemirror_mode": {
    "name": "ipython",
    "version": 3
   },
   "file_extension": ".py",
   "mimetype": "text/x-python",
   "name": "python",
   "nbconvert_exporter": "python",
   "pygments_lexer": "ipython3",
   "version": "3.10.11"
  }
 },
 "nbformat": 4,
 "nbformat_minor": 2
}
