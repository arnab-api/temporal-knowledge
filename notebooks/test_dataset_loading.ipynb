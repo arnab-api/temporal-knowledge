{
 "cells": [
  {
   "cell_type": "code",
   "execution_count": 1,
   "metadata": {},
   "outputs": [],
   "source": [
    "%load_ext autoreload\n",
    "%autoreload 2"
   ]
  },
  {
   "cell_type": "code",
   "execution_count": 2,
   "metadata": {},
   "outputs": [],
   "source": [
    "import sys\n",
    "sys.path.append('../')\n",
    "import copy\n",
    "\n",
    "import logging\n",
    "from src.utils import logging_utils\n",
    "\n",
    "logger = logging.getLogger(__name__)\n",
    "\n",
    "logging.basicConfig(\n",
    "    level=logging.INFO,\n",
    "    format = logging_utils.DEFAULT_FORMAT,\n",
    "    datefmt=logging_utils.DEFAULT_DATEFMT,\n",
    "    stream=sys.stdout\n",
    ")"
   ]
  },
  {
   "cell_type": "code",
   "execution_count": 3,
   "metadata": {},
   "outputs": [
    {
     "name": "stdout",
     "output_type": "stream",
     "text": [
      "2023-12-15 14:12:27 src.dataset INFO     initialized relation -> \"gender head of govt\" with 7757 samples\n"
     ]
    }
   ],
   "source": [
    "from src.dataset import load_dataset, load_relation, fill_template\n",
    "\n",
    "relation = load_relation(\n",
    "    # relation_file = \"head_of_government.json\",\n",
    "    relation_file = \"gender_head_of_govt.json\",\n",
    "    default_path=\"../data\"\n",
    ")"
   ]
  },
  {
   "cell_type": "code",
   "execution_count": 4,
   "metadata": {},
   "outputs": [
    {
     "name": "stdout",
     "output_type": "stream",
     "text": [
      "In 1985, Benin's President was a male\n",
      "In 1786, United Kingdom's Prime Minister was a male\n",
      "In 1995, Sri Lanka's President was a female\n",
      "In 1893, Nepal's Prime Minister was a male\n",
      "In 1993, Norway's Prime Minister was a female\n",
      "In 1992, Hungary's Prime Minister was a\n"
     ]
    }
   ],
   "source": [
    "relation.select_icl_examples(num_icl=5)\n",
    "print(relation[5][0])"
   ]
  },
  {
   "cell_type": "code",
   "execution_count": 5,
   "metadata": {},
   "outputs": [
    {
     "name": "stdout",
     "output_type": "stream",
     "text": [
      "2023-12-15 14:12:28 src.functional INFO     filtered 82 with var=1971, from gender head of govt\n"
     ]
    }
   ],
   "source": [
    "from src import functional\n",
    "relation_1971 = functional.filter_samples_by_var(relation = relation, var = \"1971\")"
   ]
  },
  {
   "cell_type": "code",
   "execution_count": 6,
   "metadata": {},
   "outputs": [
    {
     "data": {
      "text/plain": [
       "[\"In 1971, India's Prime Minister was a female\",\n",
       " \"In 1971, Lebanon's Prime Minister was a male\",\n",
       " \"In 1971, Israel's Prime Minister was a female\",\n",
       " \"In 1971, Cyprus's President was a male\",\n",
       " \"In 1971, United Kingdom's Prime Minister was a male\"]"
      ]
     },
     "execution_count": 6,
     "metadata": {},
     "output_type": "execute_result"
    }
   ],
   "source": [
    "relation_1971.few_shot_demonstrations"
   ]
  },
  {
   "cell_type": "code",
   "execution_count": 7,
   "metadata": {},
   "outputs": [
    {
     "name": "stdout",
     "output_type": "stream",
     "text": [
      "2023-12-15 14:12:29 src.dataset INFO     initialized relation -> \"head of government\" with 8354 samples\n",
      "2023-12-15 14:12:29 src.dataset INFO     initialized relation -> \"gender head of govt\" with 7757 samples\n"
     ]
    }
   ],
   "source": [
    "dataset = load_dataset(\n",
    "    default_path=\"../data\",\n",
    ")"
   ]
  },
  {
   "cell_type": "markdown",
   "metadata": {},
   "source": [
    "## Filter By Model Knowledge"
   ]
  },
  {
   "cell_type": "code",
   "execution_count": 9,
   "metadata": {},
   "outputs": [
    {
     "data": {
      "application/vnd.jupyter.widget-view+json": {
       "model_id": "d18b87203f7c4091b8b33474f2314ad7",
       "version_major": 2,
       "version_minor": 0
      },
      "text/plain": [
       "Downloading shards:   0%|          | 0/3 [00:00<?, ?it/s]"
      ]
     },
     "metadata": {},
     "output_type": "display_data"
    },
    {
     "data": {
      "application/vnd.jupyter.widget-view+json": {
       "model_id": "89d9d5d6df914a2cbc508adbbf584641",
       "version_major": 2,
       "version_minor": 0
      },
      "text/plain": [
       "Loading checkpoint shards:   0%|          | 0/3 [00:00<?, ?it/s]"
      ]
     },
     "metadata": {},
     "output_type": "display_data"
    },
    {
     "name": "stdout",
     "output_type": "stream",
     "text": [
      "2023-12-15 14:12:53 src.models INFO     loaded model <meta-llama/Llama-2-13b-hf> | size: 24985.801 MB\n"
     ]
    }
   ],
   "source": [
    "from src.models import ModelandTokenizer\n",
    "\n",
    "model_name = \"meta-llama/Llama-2-13b-hf\"\n",
    "mt = ModelandTokenizer(model_path=model_name)"
   ]
  },
  {
   "cell_type": "code",
   "execution_count": 10,
   "metadata": {},
   "outputs": [
    {
     "name": "stdout",
     "output_type": "stream",
     "text": [
      "2023-12-15 14:13:05 src.dataset INFO     initialized relation -> \"gender head of govt\" with 362 samples\n"
     ]
    },
    {
     "data": {
      "text/plain": [
       "{'male': 181, 'female': 181}"
      ]
     },
     "execution_count": 10,
     "metadata": {},
     "output_type": "execute_result"
    }
   ],
   "source": [
    "relation = load_relation(\n",
    "    relation_file = \"gender_head_of_govt.json\",\n",
    "    num_icl = 0,                          # initialize with zero-shot\n",
    "    default_path=\"../data\",\n",
    "    batch_size=500\n",
    ")\n",
    "\n",
    "all_samples = copy.deepcopy(relation.samples)\n",
    "\n",
    "relation.range_stats"
   ]
  },
  {
   "cell_type": "code",
   "execution_count": 11,
   "metadata": {},
   "outputs": [
    {
     "name": "stdout",
     "output_type": "stream",
     "text": [
      "In <var>, the gender of {} <role> was a male or female? Ans:\n",
      "In 2001, the gender of New Zealand Prime Minister was a male or female? Ans:\n"
     ]
    }
   ],
   "source": [
    "prompt_template = relation.prompt_template\n",
    "relation.prompt_template = relation.prompt_template_zs\n",
    "\n",
    "print(relation.prompt_template)\n",
    "print(relation[10][0])"
   ]
  },
  {
   "cell_type": "code",
   "execution_count": 12,
   "metadata": {},
   "outputs": [
    {
     "name": "stdout",
     "output_type": "stream",
     "text": [
      "2023-12-15 14:13:27 src.functional INFO     filtered relation \"gender head of govt\" to 180 samples (with 0-shots)\n"
     ]
    }
   ],
   "source": [
    "# filter zero-shot model knowledge\n",
    "relation = functional.filter_samples_by_model_knowledge(\n",
    "    mt = mt,\n",
    "    relation = relation,\n",
    ")"
   ]
  },
  {
   "cell_type": "code",
   "execution_count": 14,
   "metadata": {},
   "outputs": [
    {
     "data": {
      "text/plain": [
       "{'male': 180}"
      ]
     },
     "execution_count": 14,
     "metadata": {},
     "output_type": "execute_result"
    }
   ],
   "source": [
    "relation.range_stats"
   ]
  },
  {
   "cell_type": "code",
   "execution_count": 15,
   "metadata": {},
   "outputs": [
    {
     "name": "stdout",
     "output_type": "stream",
     "text": [
      "2023-12-15 14:14:29 src.functional INFO     filtered relation \"gender head of govt\" to 226 samples (with 5-shots)\n"
     ]
    }
   ],
   "source": [
    "relation.properties[\"num_icl\"] = 5\n",
    "relation.select_icl_examples(num_icl=5)\n",
    "\n",
    "relation.samples = all_samples\n",
    "\n",
    "# filter model knowledge with `num_icl` shots\n",
    "relation = functional.filter_samples_by_model_knowledge(\n",
    "    mt = mt,\n",
    "    relation = relation,\n",
    ")"
   ]
  },
  {
   "cell_type": "code",
   "execution_count": null,
   "metadata": {},
   "outputs": [],
   "source": []
  }
 ],
 "metadata": {
  "kernelspec": {
   "display_name": "Python 3",
   "language": "python",
   "name": "python3"
  },
  "language_info": {
   "codemirror_mode": {
    "name": "ipython",
    "version": 3
   },
   "file_extension": ".py",
   "mimetype": "text/x-python",
   "name": "python",
   "nbconvert_exporter": "python",
   "pygments_lexer": "ipython3",
   "version": "3.10.11"
  }
 },
 "nbformat": 4,
 "nbformat_minor": 2
}
