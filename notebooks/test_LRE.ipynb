{
 "cells": [
  {
   "cell_type": "code",
   "execution_count": 1,
   "metadata": {},
   "outputs": [],
   "source": [
    "%load_ext autoreload\n",
    "%autoreload 2"
   ]
  },
  {
   "cell_type": "code",
   "execution_count": 2,
   "metadata": {},
   "outputs": [],
   "source": [
    "import sys\n",
    "\n",
    "sys.path.append(\"../\")\n",
    "import copy\n",
    "\n",
    "import logging\n",
    "from src.utils import logging_utils\n",
    "from src import functional\n",
    "from src.models import ModelandTokenizer\n",
    "from src.dataset import load_dataset, load_relation, fill_template\n",
    "\n",
    "\n",
    "logger = logging.getLogger(__name__)\n",
    "\n",
    "logging.basicConfig(\n",
    "    level=logging.INFO,\n",
    "    format=logging_utils.DEFAULT_FORMAT,\n",
    "    datefmt=logging_utils.DEFAULT_DATEFMT,\n",
    "    stream=sys.stdout,\n",
    ")"
   ]
  },
  {
   "cell_type": "code",
   "execution_count": 4,
   "metadata": {},
   "outputs": [
    {
     "data": {
      "application/vnd.jupyter.widget-view+json": {
       "model_id": "26b11453a543408d8fc05c2b8a56f94e",
       "version_major": 2,
       "version_minor": 0
      },
      "text/plain": [
       "Loading checkpoint shards:   0%|          | 0/4 [00:00<?, ?it/s]"
      ]
     },
     "metadata": {},
     "output_type": "display_data"
    },
    {
     "name": "stderr",
     "output_type": "stream",
     "text": [
      "Special tokens have been added in the vocabulary, make sure the associated word embeddings are fine-tuned or trained.\n"
     ]
    },
    {
     "name": "stdout",
     "output_type": "stream",
     "text": [
      "2024-06-06 15:12:24 src.models INFO     loaded model </home/local_arnab/Codes/saved_model_weights/meta-llama/Meta-Llama-3-8B> | size: 15508.516 MB\n"
     ]
    }
   ],
   "source": [
    "from src.models import ModelandTokenizer\n",
    "\n",
    "model_name = \"meta-llama/Meta-Llama-3-8B\"\n",
    "mt = ModelandTokenizer(model_path=model_name)"
   ]
  },
  {
   "cell_type": "code",
   "execution_count": 5,
   "metadata": {},
   "outputs": [],
   "source": [
    "#! This filtering strategy may cause problem for `gender_head_of_govt`, the model is almost always happy to predict `male` with zero-shot\n",
    "\n",
    "# relation = load_relation(\n",
    "#     relation_file = \"head_of_government.json\",\n",
    "#     num_icl = 0,                          # initialize with zero-shot\n",
    "#     default_path=\"../data\",\n",
    "#     batch_size=500\n",
    "# )\n",
    "\n",
    "# all_samples = copy.deepcopy(relation.samples)\n",
    "\n",
    "# # filter zero-shot model knowledge\n",
    "# relation = functional.filter_samples_by_model_knowledge(\n",
    "#     mt = mt,\n",
    "#     relation = relation,\n",
    "# )\n",
    "\n",
    "# relation.properties[\"num_icl\"] = 5\n",
    "# relation.select_icl_examples(num_icl=5)\n",
    "\n",
    "# relation.samples = all_samples\n",
    "\n",
    "# # filter model knowledge with `num_icl` shots\n",
    "# relation = functional.filter_samples_by_model_knowledge(\n",
    "#     mt = mt,\n",
    "#     relation = relation,\n",
    "# )"
   ]
  },
  {
   "cell_type": "code",
   "execution_count": 16,
   "metadata": {},
   "outputs": [
    {
     "name": "stdout",
     "output_type": "stream",
     "text": [
      "2024-06-06 15:14:20 src.dataset INFO     initialized relation -> \"head of government\" with 8354 samples\n",
      "2024-06-06 15:14:20 src.functional INFO     filtered 120 with var=2015, from head of government\n"
     ]
    },
    {
     "data": {
      "text/plain": [
       "'range = |1190| count(obj)_min = 1, count(obj)_max = 1'"
      ]
     },
     "execution_count": 16,
     "metadata": {},
     "output_type": "execute_result"
    }
   ],
   "source": [
    "from src.dataset import balance_samples\n",
    "\n",
    "relation = load_relation(\n",
    "    relation_file = \"head_of_govt.json\",\n",
    "    num_icl = 5,                          # initialize with 5-shot\n",
    "    default_path=\"../data\",\n",
    "    # batch_size=500\n",
    ")\n",
    "\n",
    "relation = functional.filter_samples_by_var(relation = relation, var = \"2015\")\n",
    "\n",
    "relation.range_stats"
   ]
  },
  {
   "cell_type": "code",
   "execution_count": 17,
   "metadata": {},
   "outputs": [
    {
     "name": "stdout",
     "output_type": "stream",
     "text": [
      "2024-06-06 15:14:30 src.functional INFO     filtered relation \"head of government\" to 106 samples (with 5-shots)\n",
      "2024-06-06 15:14:30 src.dataset INFO     initialized relation -> \"head of government\" with 101 samples\n"
     ]
    },
    {
     "data": {
      "text/plain": [
       "'range = |106| count(obj)_min = 1, count(obj)_max = 1'"
      ]
     },
     "execution_count": 17,
     "metadata": {},
     "output_type": "execute_result"
    }
   ],
   "source": [
    "relation = functional.filter_samples_by_model_knowledge(\n",
    "    mt = mt,\n",
    "    relation = relation,\n",
    ")\n",
    "\n",
    "relation.samples = balance_samples(relation.samples)\n",
    "\n",
    "relation.range_stats"
   ]
  },
  {
   "cell_type": "code",
   "execution_count": 19,
   "metadata": {},
   "outputs": [
    {
     "data": {
      "text/plain": [
       "\"In <var>, {}'s <role> was named\""
      ]
     },
     "execution_count": 19,
     "metadata": {},
     "output_type": "execute_result"
    }
   ],
   "source": [
    "from relations.src.operators import JacobianIclMeanEstimator\n",
    "import relations.src.functional as relations_functional\n",
    "\n",
    "# relations_functional.make_prompt = functional.make_prompt\n",
    "relation.prompt_template"
   ]
  },
  {
   "cell_type": "code",
   "execution_count": 20,
   "metadata": {},
   "outputs": [
    {
     "data": {
      "text/plain": [
       "[\"In 2015, India's Prime Minister was named Narendra Modi\",\n",
       " \"In 2015, Hungary's Prime Minister was named Viktor Orbán\",\n",
       " \"In 2015, Zimbabwe's President was named Robert Mugabe\",\n",
       " \"In 2015, Austria's Federal Chancellor was named Werner Faymann\",\n",
       " \"In 2015, Azerbaijan's President was named Ilham Aliyev\"]"
      ]
     },
     "execution_count": 20,
     "metadata": {},
     "output_type": "execute_result"
    }
   ],
   "source": [
    "relation.few_shot_demonstrations"
   ]
  },
  {
   "cell_type": "code",
   "execution_count": 21,
   "metadata": {},
   "outputs": [],
   "source": [
    "estimator = JacobianIclMeanEstimator(\n",
    "    mt = mt,\n",
    "    h_layer = 8,\n",
    "    beta = 5.0\n",
    ")\n",
    "\n",
    "lre = estimator(relation)"
   ]
  },
  {
   "cell_type": "code",
   "execution_count": 22,
   "metadata": {},
   "outputs": [
    {
     "name": "stdout",
     "output_type": "stream",
     "text": [
      "In 2015, India's Prime Minister was named Narendra Modi\n",
      "In 2015, Hungary's Prime Minister was named Viktor Orbán\n",
      "In 2015, Zimbabwe's President was named Robert Mugabe\n",
      "In 2015, Austria's Federal Chancellor was named Werner Faymann\n",
      "In 2015, Azerbaijan's President was named Ilham Aliyev\n",
      "In <var>, {}'s <role> was named\n"
     ]
    }
   ],
   "source": [
    "print(lre.prompt_template)"
   ]
  },
  {
   "cell_type": "code",
   "execution_count": 23,
   "metadata": {},
   "outputs": [
    {
     "name": "stdout",
     "output_type": "stream",
     "text": [
      "sample.subject='South Sudan' (2015), sample.object='Salva Kiir Mayardit', predicted=\" as\", (p=0.146), known=(✗)\n",
      "sample.subject='Singapore' (2015), sample.object='Lee Hsien Loong', predicted=\" Time\", (p=0.186), known=(✗)\n",
      "sample.subject='Iran' (2015), sample.object='Hassan Rouhani', predicted=\" Time\", (p=0.234), known=(✗)\n",
      "sample.subject='Russia' (2015), sample.object='Vladimir Putin', predicted=\" Time\", (p=0.203), known=(✗)\n",
      "sample.subject='Thailand' (2015), sample.object='Prayut Chan-o-cha', predicted=\" as\", (p=0.096), known=(✗)\n",
      "sample.subject='Montenegro' (2015), sample.object='Filip Vujanović', predicted=\" as\", (p=0.144), known=(✗)\n",
      "sample.subject='Jordan' (2015), sample.object='Abdullah II', predicted=\" Time\", (p=0.095), known=(✗)\n",
      "sample.subject='Uzbekistan' (2015), sample.object='Islam Karimov', predicted=\" as\", (p=0.105), known=(✗)\n",
      "sample.subject='Eritrea' (2015), sample.object='Isaias Afwerki', predicted=\" one\", (p=0.178), known=(✗)\n",
      "sample.subject='Yemen' (2015), sample.object='Abdrabbuh Mansur Hadi', predicted=\" as\", (p=0.076), known=(✗)\n",
      "sample.subject='Sweden' (2015), sample.object='Stefan Löfven', predicted=\" as\", (p=0.136), known=(✗)\n",
      "sample.subject='Somalia' (2015), sample.object='Hassan Sheikh Mohamud', predicted=\" as\", (p=0.119), known=(✗)\n",
      "sample.subject='Burundi' (2015), sample.object='Pierre Nkurunziza', predicted=\" dictator\", (p=0.100), known=(✗)\n",
      "sample.subject='Sierra Leone' (2015), sample.object='Ernest Bai Koroma', predicted=\" as\", (p=0.114), known=(✗)\n",
      "sample.subject='North Korea' (2015), sample.object='Kim Jong-un', predicted=\" the\", (p=0.088), known=(✗)\n",
      "sample.subject='Brunei' (2015), sample.object='Hassanal Bolkiah', predicted=\" a\", (p=0.111), known=(✗)\n",
      "sample.subject='Moldova' (2015), sample.object='Nicolae Timofti', predicted=\" as\", (p=0.107), known=(✗)\n",
      "sample.subject='United Kingdom' (2015), sample.object='David Cameron', predicted=\" as\", (p=0.104), known=(✗)\n",
      "sample.subject='Afghanistan' (2015), sample.object='Ashraf Ghani', predicted=\" as\", (p=0.089), known=(✓)\n",
      "sample.subject='Bulgaria' (2015), sample.object='Boyko Borissov', predicted=\" as\", (p=0.117), known=(✗)\n",
      "sample.subject='Belarus' (2015), sample.object='Alexander Lukashenko', predicted=\" as\", (p=0.096), known=(✗)\n",
      "sample.subject='Mexico' (2015), sample.object='Enrique Peña Nieto', predicted=\" Time\", (p=0.195), known=(✗)\n",
      "sample.subject='Mongolia' (2015), sample.object='Tsakhiagiin Elbegdorj', predicted=\" one\", (p=0.082), known=(✗)\n",
      "sample.subject='Senegal' (2015), sample.object='Macky Sall', predicted=\" as\", (p=0.129), known=(✗)\n",
      "sample.subject='Cyprus' (2015), sample.object='Nicos Anastasiades', predicted=\" as\", (p=0.100), known=(✗)\n",
      "sample.subject='Slovakia' (2015), sample.object='Robert Fico', predicted=\" as\", (p=0.173), known=(✗)\n",
      "sample.subject='Czech Republic' (2015), sample.object='Bohuslav Sobotka', predicted=\" as\", (p=0.127), known=(✗)\n",
      "sample.subject='Lebanon' (2015), sample.object='Tammam Salam', predicted=\" as\", (p=0.126), known=(✗)\n",
      "sample.subject='Netherlands' (2015), sample.object='Mark Rutte', predicted=\" as\", (p=0.083), known=(✗)\n",
      "sample.subject='Oman' (2015), sample.object='Qaboos bin Said', predicted=\" as\", (p=0.136), known=(✗)\n",
      "sample.subject='Luxembourg' (2015), sample.object='Xavier Bettel', predicted=\" European\", (p=0.101), known=(✗)\n",
      "sample.subject='Liberia' (2015), sample.object='Ellen Johnson Sirleaf', predicted=\" one\", (p=0.106), known=(✗)\n",
      "sample.subject='Mauritius' (2015), sample.object='Anerood Jugnauth', predicted=\" as\", (p=0.064), known=(✗)\n",
      "sample.subject='Maldives' (2015), sample.object='Abdulla Yameen', predicted=\" as\", (p=0.136), known=(✗)\n",
      "sample.subject='Myanmar' (2015), sample.object='Thein Sein', predicted=\" Person\", (p=0.090), known=(✗)\n",
      "sample.subject='Madagascar' (2015), sample.object='Hery Rajaonarimampianina', predicted=\" in\", (p=0.091), known=(✗)\n",
      "sample.subject='Chile' (2015), sample.object='Michelle Bachelet', predicted=\" as\", (p=0.092), known=(✗)\n",
      "sample.subject='Chad' (2015), sample.object='Idriss Déby', predicted=\" as\", (p=0.126), known=(✗)\n",
      "sample.subject='Democratic Republic of the Congo' (2015), sample.object='Joseph Kabila', predicted=\" as\", (p=0.145), known=(✗)\n",
      "sample.subject='Cape Verde' (2015), sample.object='José Maria Neves', predicted=\" as\", (p=0.112), known=(✗)\n",
      "sample.subject='Niger' (2015), sample.object='Mahamadou Issoufou', predicted=\" as\", (p=0.150), known=(✗)\n",
      "sample.subject='Seychelles' (2015), sample.object='James Michel', predicted=\" as\", (p=0.132), known=(✗)\n",
      "sample.subject='Bahrain' (2015), sample.object='Hamad bin Isa Al Khalifa', predicted=\" as\", (p=0.127), known=(✗)\n",
      "sample.subject='Turkey' (2015), sample.object='Recep Tayyip Erdoğan', predicted=\" as\", (p=0.117), known=(✗)\n",
      "sample.subject='Armenia' (2015), sample.object='Hovik Abrahamyan', predicted=\" as\", (p=0.109), known=(✗)\n",
      "sample.subject='Algeria' (2015), sample.object='Abdelaziz Bouteflika', predicted=\" as\", (p=0.206), known=(✗)\n",
      "sample.subject='South Korea' (2015), sample.object='Park Geun-hye', predicted=\" the\", (p=0.115), known=(✗)\n",
      "sample.subject='Brazil' (2015), sample.object='Dilma Rousseff', predicted=\" as\", (p=0.111), known=(✗)\n",
      "sample.subject='Spain' (2015), sample.object='Mariano Rajoy', predicted=\" as\", (p=0.152), known=(✗)\n",
      "sample.subject='Israel' (2015), sample.object='Benjamin Netanyahu', predicted=\" Time\", (p=0.169), known=(✗)\n",
      "sample.subject=\"Côte d'Ivoire\" (2015), sample.object='Alassane Ouattara', predicted=\" as\", (p=0.094), known=(✗)\n",
      "sample.subject='Syria' (2015), sample.object='Bashar al-Assad', predicted=\" as\", (p=0.090), known=(✗)\n",
      "sample.subject='Serbia' (2015), sample.object='Tomislav Nikolić', predicted=\" as\", (p=0.098), known=(✗)\n",
      "sample.subject='Gambia' (2015), sample.object='Yahya Jammeh', predicted=\" as\", (p=0.123), known=(✗)\n",
      "sample.subject='Colombia' (2015), sample.object='Juan Manuel Santos', predicted=\" TIME\", (p=0.112), known=(✗)\n",
      "sample.subject='Indonesia' (2015), sample.object='Joko Widodo', predicted=\" as\", (p=0.160), known=(✗)\n",
      "sample.subject='Angola' (2015), sample.object='José Eduardo dos Santos', predicted=\" as\", (p=0.157), known=(✗)\n",
      "sample.subject='Japan' (2015), sample.object='Shinzo Abe', predicted=\" Time\", (p=0.327), known=(✗)\n",
      "sample.subject='Mali' (2015), sample.object='Ibrahim Boubacar Keïta', predicted=\" as\", (p=0.107), known=(✗)\n",
      "sample.subject='Iceland' (2015), sample.object='Sigmundur Davíð Gunnlaugsson', predicted=\" Time\", (p=0.175), known=(✗)\n",
      "sample.subject='Iraq' (2015), sample.object='Haider al-Abadi', predicted=\" as\", (p=0.109), known=(✗)\n",
      "sample.subject='South Africa' (2015), sample.object='Jacob Zuma', predicted=\" as\", (p=0.167), known=(✗)\n",
      "sample.subject='Kyrgyzstan' (2015), sample.object='Almazbek Atambayev', predicted=\" as\", (p=0.107), known=(✗)\n",
      "sample.subject='Ireland' (2015), sample.object='Enda Kenny', predicted=\" the\", (p=0.060), known=(✗)\n",
      "sample.subject='Italy' (2015), sample.object='Matteo Renzi', predicted=\" as\", (p=0.165), known=(✗)\n",
      "sample.subject='Belgium' (2015), sample.object='Charles Michel', predicted=\" as\", (p=0.117), known=(✗)\n",
      "sample.subject='Uganda' (2015), sample.object='Yoweri Museveni', predicted=\" as\", (p=0.160), known=(✗)\n",
      "sample.subject='Croatia' (2015), sample.object='Zoran Milanović', predicted=\" as\", (p=0.092), known=(✗)\n",
      "sample.subject='Ghana' (2015), sample.object='John Dramani Mahama', predicted=\" as\", (p=0.142), known=(✗)\n",
      "sample.subject='Kazakhstan' (2015), sample.object='Nursultan Nazarbayev', predicted=\" Chair\", (p=0.108), known=(✗)\n",
      "sample.subject='Guinea' (2015), sample.object='Alpha Condé', predicted=\" as\", (p=0.125), known=(✗)\n",
      "sample.subject='North Macedonia' (2015), sample.object='Nikola Gruevski', predicted=\" as\", (p=0.115), known=(✗)\n",
      "sample.subject='Kuwait' (2015), sample.object='Sabah IV Al-Ahmad Al-Jaber Al-Sabah', predicted=\" as\", (p=0.104), known=(✗)\n",
      "sample.subject='Togo' (2015), sample.object='Faure Gnassingbé', predicted=\" as\", (p=0.173), known=(✗)\n",
      "sample.subject='Central African Republic' (2015), sample.object='Catherine Samba-Panza', predicted=\" as\", (p=0.069), known=(✗)\n",
      "sample.subject='Laos' (2015), sample.object='Choummaly Sayasone', predicted=\" a\", (p=0.093), known=(✗)\n",
      "sample.subject='Rwanda' (2015), sample.object='Paul Kagame', predicted=\" one\", (p=0.107), known=(✗)\n",
      "sample.subject='Kenya' (2015), sample.object='Uhuru Kenyatta', predicted=\" as\", (p=0.163), known=(✗)\n",
      "sample.subject='Mauritania' (2015), sample.object='Mohamed Ould Abdel Aziz', predicted=\" as\", (p=0.205), known=(✗)\n",
      "sample.subject='China' (2015), sample.object='Xi Jinping', predicted=\" Time\", (p=0.226), known=(✗)\n",
      "sample.subject='Taiwan' (2015), sample.object='Ma Ying-jeou', predicted=\" the\", (p=0.087), known=(✗)\n",
      "sample.subject='Slovenia' (2015), sample.object='Miro Cerar', predicted=\" as\", (p=0.090), known=(✗)\n",
      "sample.subject='Ethiopia' (2015), sample.object='Hailemariam Desalegn', predicted=\" a\", (p=0.069), known=(✗)\n",
      "sample.subject='Tajikistan' (2015), sample.object='Emomali Rahmon', predicted=\" as\", (p=0.159), known=(✗)\n",
      "sample.subject='Pakistan' (2015), sample.object='Nawaz Sharif', predicted=\" as\", (p=0.117), known=(✗)\n",
      "sample.subject='Philippines' (2015), sample.object='Benigno Aquino III', predicted=\" Person\", (p=0.117), known=(✗)\n",
      "sample.subject='Malawi' (2015), sample.object='Peter Mutharika', predicted=\" as\", (p=0.166), known=(✗)\n",
      "sample.subject='Cambodia' (2015), sample.object='Hun Sen', predicted=\" a\", (p=0.114), known=(✗)\n",
      "sample.subject='Malaysia' (2015), sample.object='Najib Razak', predicted=\" as\", (p=0.142), known=(✗)\n",
      "sample.subject='Comoros' (2015), sample.object='Ikililou Dhoinine', predicted=\" as\", (p=0.174), known=(✗)\n",
      "sample.subject='New Zealand' (2015), sample.object='John Key', predicted=\" the\", (p=0.122), known=(✗)\n",
      "sample.subject='Bhutan' (2015), sample.object='Tshering Tobgay', predicted=\" one\", (p=0.064), known=(✗)\n",
      "sample.subject='Norway' (2015), sample.object='Erna Solberg', predicted=\" the\", (p=0.104), known=(✗)\n",
      "sample.subject='Germany' (2015), sample.object='Angela Merkel', predicted=\" Time\", (p=0.143), known=(✗)\n",
      "sample.subject='Denmark' (2015), sample.object='Lars Løkke Rasmussen', predicted=\" the\", (p=0.180), known=(✗)\n",
      "sample.subject='Gabon' (2015), sample.object='Ali Bongo Ondimba', predicted=\" as\", (p=0.123), known=(✗)\n",
      "sample.subject='Kosovo' (2015), sample.object='Isa Mustafa', predicted=\" as\", (p=0.143), known=(✗)\n",
      "sample.subject='Republic of the Congo' (2015), sample.object='Denis Sassou Nguesso', predicted=\" as\", (p=0.110), known=(✗)\n",
      "sample.subject='Egypt' (2015), sample.object='Abdel Fattah el-Sisi', predicted=\" as\", (p=0.126), known=(✗)\n",
      "sample.subject='Albania' (2015), sample.object='Edi Rama', predicted=\" as\", (p=0.158), known=(✗)\n",
      "sample.subject='Turkmenistan' (2015), sample.object='Gurbanguly Berdimuhamedow', predicted=\" as\", (p=0.107), known=(✗)\n",
      "------------------------------------------------------------\n",
      "Faithfulness (@1) = 0.009900990099009901\n",
      "------------------------------------------------------------\n"
     ]
    }
   ],
   "source": [
    "correct = 0\n",
    "wrong = 0\n",
    "for sample in relation.samples:\n",
    "    predictions = lre(sample = sample).predictions\n",
    "    known_flag = functional.is_nontrivial_prefix(\n",
    "        prediction=predictions[0].token, target=sample.object\n",
    "    )\n",
    "    print(f\"{sample.subject=} ({sample.placeholders['<var>']}), {sample.object=}, \", end=\"\")\n",
    "    print(f'predicted=\"{functional.format_whitespace(predictions[0].token)}\", (p={predictions[0].prob:.3f}), known=({functional.get_tick_marker(known_flag)})')\n",
    "    \n",
    "    correct += known_flag\n",
    "    wrong += not known_flag\n",
    "    \n",
    "faithfulness = correct/(correct + wrong)\n",
    "\n",
    "print(\"------------------------------------------------------------\")\n",
    "print(f\"Faithfulness (@1) = {faithfulness}\")\n",
    "print(\"------------------------------------------------------------\")"
   ]
  },
  {
   "cell_type": "code",
   "execution_count": 24,
   "metadata": {},
   "outputs": [
    {
     "data": {
      "text/plain": [
       "[[PredictedToken(token=' Hassan', prob=0.93973308801651),\n",
       "  PredictedToken(token=' Hasan', prob=0.017482858151197433),\n",
       "  PredictedToken(token=' Mahmoud', prob=0.010770877823233604),\n",
       "  PredictedToken(token=' Ali', prob=0.007402708288282156),\n",
       "  PredictedToken(token=' Mohammad', prob=0.0030859075486660004)]]"
      ]
     },
     "execution_count": 24,
     "metadata": {},
     "output_type": "execute_result"
    }
   ],
   "source": [
    "prompt = relation[2][0]\n",
    "\n",
    "functional.predict_next_token(\n",
    "    mt = mt,\n",
    "    prompt = prompt\n",
    ")"
   ]
  },
  {
   "cell_type": "code",
   "execution_count": 25,
   "metadata": {},
   "outputs": [
    {
     "data": {
      "text/plain": [
       "[Sample(subject='South Sudan', object='Salva Kiir Mayardit', placeholders={'<var>': '2015', '<role>': 'President'}),\n",
       " Sample(subject='Singapore', object='Lee Hsien Loong', placeholders={'<var>': '2015', '<role>': 'Prime Minister'}),\n",
       " Sample(subject='Iran', object='Hassan Rouhani', placeholders={'<var>': '2015', '<role>': 'President'}),\n",
       " Sample(subject='Russia', object='Vladimir Putin', placeholders={'<var>': '2015', '<role>': 'President'}),\n",
       " Sample(subject='Thailand', object='Prayut Chan-o-cha', placeholders={'<var>': '2015', '<role>': 'Prime Minister'}),\n",
       " Sample(subject='Montenegro', object='Filip Vujanović', placeholders={'<var>': '2015', '<role>': 'President'}),\n",
       " Sample(subject='Jordan', object='Abdullah II', placeholders={'<var>': '2015', '<role>': 'King'}),\n",
       " Sample(subject='Uzbekistan', object='Islam Karimov', placeholders={'<var>': '2015', '<role>': 'President'}),\n",
       " Sample(subject='Eritrea', object='Isaias Afwerki', placeholders={'<var>': '2015', '<role>': 'President'}),\n",
       " Sample(subject='Yemen', object='Abdrabbuh Mansur Hadi', placeholders={'<var>': '2015', '<role>': 'President'}),\n",
       " Sample(subject='Sweden', object='Stefan Löfven', placeholders={'<var>': '2015', '<role>': 'Prime Minister'}),\n",
       " Sample(subject='Somalia', object='Hassan Sheikh Mohamud', placeholders={'<var>': '2015', '<role>': 'President'}),\n",
       " Sample(subject='Burundi', object='Pierre Nkurunziza', placeholders={'<var>': '2015', '<role>': 'President'}),\n",
       " Sample(subject='Sierra Leone', object='Ernest Bai Koroma', placeholders={'<var>': '2015', '<role>': 'President'}),\n",
       " Sample(subject='North Korea', object='Kim Jong-un', placeholders={'<var>': '2015', '<role>': 'Supreme Leader'}),\n",
       " Sample(subject='Brunei', object='Hassanal Bolkiah', placeholders={'<var>': '2015', '<role>': 'Sultan'}),\n",
       " Sample(subject='Moldova', object='Nicolae Timofti', placeholders={'<var>': '2015', '<role>': 'President'}),\n",
       " Sample(subject='United Kingdom', object='David Cameron', placeholders={'<var>': '2015', '<role>': 'Prime Minister'}),\n",
       " Sample(subject='Afghanistan', object='Ashraf Ghani', placeholders={'<var>': '2015', '<role>': 'President'}),\n",
       " Sample(subject='Bulgaria', object='Boyko Borissov', placeholders={'<var>': '2015', '<role>': 'Prime Minister'}),\n",
       " Sample(subject='Belarus', object='Alexander Lukashenko', placeholders={'<var>': '2015', '<role>': 'President'}),\n",
       " Sample(subject='Mexico', object='Enrique Peña Nieto', placeholders={'<var>': '2015', '<role>': 'President'}),\n",
       " Sample(subject='Mongolia', object='Tsakhiagiin Elbegdorj', placeholders={'<var>': '2015', '<role>': 'President'}),\n",
       " Sample(subject='Senegal', object='Macky Sall', placeholders={'<var>': '2015', '<role>': 'President'}),\n",
       " Sample(subject='Cyprus', object='Nicos Anastasiades', placeholders={'<var>': '2015', '<role>': 'President'}),\n",
       " Sample(subject='Slovakia', object='Robert Fico', placeholders={'<var>': '2015', '<role>': 'Prime Minister'}),\n",
       " Sample(subject='Czech Republic', object='Bohuslav Sobotka', placeholders={'<var>': '2015', '<role>': 'Prime Minister'}),\n",
       " Sample(subject='Lebanon', object='Tammam Salam', placeholders={'<var>': '2015', '<role>': 'Prime Minister'}),\n",
       " Sample(subject='Netherlands', object='Mark Rutte', placeholders={'<var>': '2015', '<role>': 'Prime Minister'}),\n",
       " Sample(subject='Oman', object='Qaboos bin Said', placeholders={'<var>': '2015', '<role>': 'Sultan'}),\n",
       " Sample(subject='Luxembourg', object='Xavier Bettel', placeholders={'<var>': '2015', '<role>': 'Prime Minister'}),\n",
       " Sample(subject='Liberia', object='Ellen Johnson Sirleaf', placeholders={'<var>': '2015', '<role>': 'President'}),\n",
       " Sample(subject='Mauritius', object='Anerood Jugnauth', placeholders={'<var>': '2015', '<role>': 'Prime Minister'}),\n",
       " Sample(subject='Maldives', object='Abdulla Yameen', placeholders={'<var>': '2015', '<role>': 'President'}),\n",
       " Sample(subject='Myanmar', object='Thein Sein', placeholders={'<var>': '2015', '<role>': 'President'}),\n",
       " Sample(subject='Madagascar', object='Hery Rajaonarimampianina', placeholders={'<var>': '2015', '<role>': 'President'}),\n",
       " Sample(subject='Chile', object='Michelle Bachelet', placeholders={'<var>': '2015', '<role>': 'President'}),\n",
       " Sample(subject='Chad', object='Idriss Déby', placeholders={'<var>': '2015', '<role>': 'President'}),\n",
       " Sample(subject='Democratic Republic of the Congo', object='Joseph Kabila', placeholders={'<var>': '2015', '<role>': 'President'}),\n",
       " Sample(subject='Cape Verde', object='José Maria Neves', placeholders={'<var>': '2015', '<role>': 'Prime Minister'}),\n",
       " Sample(subject='Niger', object='Mahamadou Issoufou', placeholders={'<var>': '2015', '<role>': 'President'}),\n",
       " Sample(subject='Seychelles', object='James Michel', placeholders={'<var>': '2015', '<role>': 'President'}),\n",
       " Sample(subject='Bahrain', object='Hamad bin Isa Al Khalifa', placeholders={'<var>': '2015', '<role>': 'King'}),\n",
       " Sample(subject='Turkey', object='Recep Tayyip Erdoğan', placeholders={'<var>': '2015', '<role>': 'President'}),\n",
       " Sample(subject='Armenia', object='Hovik Abrahamyan', placeholders={'<var>': '2015', '<role>': 'Prime Minister'}),\n",
       " Sample(subject='Algeria', object='Abdelaziz Bouteflika', placeholders={'<var>': '2015', '<role>': 'President'}),\n",
       " Sample(subject='South Korea', object='Park Geun-hye', placeholders={'<var>': '2015', '<role>': 'President'}),\n",
       " Sample(subject='Brazil', object='Dilma Rousseff', placeholders={'<var>': '2015', '<role>': 'President'}),\n",
       " Sample(subject='Spain', object='Mariano Rajoy', placeholders={'<var>': '2015', '<role>': 'Prime Minister'}),\n",
       " Sample(subject='Israel', object='Benjamin Netanyahu', placeholders={'<var>': '2015', '<role>': 'Prime Minister'}),\n",
       " Sample(subject=\"Côte d'Ivoire\", object='Alassane Ouattara', placeholders={'<var>': '2015', '<role>': 'President'}),\n",
       " Sample(subject='Syria', object='Bashar al-Assad', placeholders={'<var>': '2015', '<role>': 'President'}),\n",
       " Sample(subject='Serbia', object='Tomislav Nikolić', placeholders={'<var>': '2015', '<role>': 'President'}),\n",
       " Sample(subject='Gambia', object='Yahya Jammeh', placeholders={'<var>': '2015', '<role>': 'President'}),\n",
       " Sample(subject='Colombia', object='Juan Manuel Santos', placeholders={'<var>': '2015', '<role>': 'President'}),\n",
       " Sample(subject='Indonesia', object='Joko Widodo', placeholders={'<var>': '2015', '<role>': 'President'}),\n",
       " Sample(subject='Angola', object='José Eduardo dos Santos', placeholders={'<var>': '2015', '<role>': 'President'}),\n",
       " Sample(subject='Japan', object='Shinzo Abe', placeholders={'<var>': '2015', '<role>': 'Prime Minister'}),\n",
       " Sample(subject='Mali', object='Ibrahim Boubacar Keïta', placeholders={'<var>': '2015', '<role>': 'President'}),\n",
       " Sample(subject='Iceland', object='Sigmundur Davíð Gunnlaugsson', placeholders={'<var>': '2015', '<role>': 'Prime Minister'}),\n",
       " Sample(subject='Iraq', object='Haider al-Abadi', placeholders={'<var>': '2015', '<role>': 'Prime Minister'}),\n",
       " Sample(subject='South Africa', object='Jacob Zuma', placeholders={'<var>': '2015', '<role>': 'President'}),\n",
       " Sample(subject='Kyrgyzstan', object='Almazbek Atambayev', placeholders={'<var>': '2015', '<role>': 'President'}),\n",
       " Sample(subject='Ireland', object='Enda Kenny', placeholders={'<var>': '2015', '<role>': 'Taoiseach'}),\n",
       " Sample(subject='Italy', object='Matteo Renzi', placeholders={'<var>': '2015', '<role>': 'Prime Minister'}),\n",
       " Sample(subject='Belgium', object='Charles Michel', placeholders={'<var>': '2015', '<role>': 'Prime Minister'}),\n",
       " Sample(subject='Uganda', object='Yoweri Museveni', placeholders={'<var>': '2015', '<role>': 'President'}),\n",
       " Sample(subject='Croatia', object='Zoran Milanović', placeholders={'<var>': '2015', '<role>': 'Prime Minister'}),\n",
       " Sample(subject='Ghana', object='John Dramani Mahama', placeholders={'<var>': '2015', '<role>': 'President'}),\n",
       " Sample(subject='Kazakhstan', object='Nursultan Nazarbayev', placeholders={'<var>': '2015', '<role>': 'President'}),\n",
       " Sample(subject='Guinea', object='Alpha Condé', placeholders={'<var>': '2015', '<role>': 'President'}),\n",
       " Sample(subject='North Macedonia', object='Nikola Gruevski', placeholders={'<var>': '2015', '<role>': 'Prime Minister'}),\n",
       " Sample(subject='Kuwait', object='Sabah IV Al-Ahmad Al-Jaber Al-Sabah', placeholders={'<var>': '2015', '<role>': 'Emir'}),\n",
       " Sample(subject='Togo', object='Faure Gnassingbé', placeholders={'<var>': '2015', '<role>': 'President'}),\n",
       " Sample(subject='Central African Republic', object='Catherine Samba-Panza', placeholders={'<var>': '2015', '<role>': 'President'}),\n",
       " Sample(subject='Laos', object='Choummaly Sayasone', placeholders={'<var>': '2015', '<role>': 'President'}),\n",
       " Sample(subject='Rwanda', object='Paul Kagame', placeholders={'<var>': '2015', '<role>': 'President'}),\n",
       " Sample(subject='Kenya', object='Uhuru Kenyatta', placeholders={'<var>': '2015', '<role>': 'President'}),\n",
       " Sample(subject='Mauritania', object='Mohamed Ould Abdel Aziz', placeholders={'<var>': '2015', '<role>': 'President'}),\n",
       " Sample(subject='China', object='Xi Jinping', placeholders={'<var>': '2015', '<role>': 'President'}),\n",
       " Sample(subject='Taiwan', object='Ma Ying-jeou', placeholders={'<var>': '2015', '<role>': 'President'}),\n",
       " Sample(subject='Slovenia', object='Miro Cerar', placeholders={'<var>': '2015', '<role>': 'Prime Minister'}),\n",
       " Sample(subject='Ethiopia', object='Hailemariam Desalegn', placeholders={'<var>': '2015', '<role>': 'Prime Minister'}),\n",
       " Sample(subject='Tajikistan', object='Emomali Rahmon', placeholders={'<var>': '2015', '<role>': 'President'}),\n",
       " Sample(subject='Pakistan', object='Nawaz Sharif', placeholders={'<var>': '2015', '<role>': 'Prime Minister'}),\n",
       " Sample(subject='Philippines', object='Benigno Aquino III', placeholders={'<var>': '2015', '<role>': 'President'}),\n",
       " Sample(subject='Malawi', object='Peter Mutharika', placeholders={'<var>': '2015', '<role>': 'President'}),\n",
       " Sample(subject='Cambodia', object='Hun Sen', placeholders={'<var>': '2015', '<role>': 'Prime Minister'}),\n",
       " Sample(subject='Malaysia', object='Najib Razak', placeholders={'<var>': '2015', '<role>': 'Prime Minister'}),\n",
       " Sample(subject='Comoros', object='Ikililou Dhoinine', placeholders={'<var>': '2015', '<role>': 'President'}),\n",
       " Sample(subject='New Zealand', object='John Key', placeholders={'<var>': '2015', '<role>': 'Prime Minister'}),\n",
       " Sample(subject='Bhutan', object='Tshering Tobgay', placeholders={'<var>': '2015', '<role>': 'Prime Minister'}),\n",
       " Sample(subject='Norway', object='Erna Solberg', placeholders={'<var>': '2015', '<role>': 'Prime Minister'}),\n",
       " Sample(subject='Germany', object='Angela Merkel', placeholders={'<var>': '2015', '<role>': 'Chancellor'}),\n",
       " Sample(subject='Denmark', object='Lars Løkke Rasmussen', placeholders={'<var>': '2015', '<role>': 'Prime Minister'}),\n",
       " Sample(subject='Gabon', object='Ali Bongo Ondimba', placeholders={'<var>': '2015', '<role>': 'President'}),\n",
       " Sample(subject='Kosovo', object='Isa Mustafa', placeholders={'<var>': '2015', '<role>': 'Prime Minister'}),\n",
       " Sample(subject='Republic of the Congo', object='Denis Sassou Nguesso', placeholders={'<var>': '2015', '<role>': 'President'}),\n",
       " Sample(subject='Egypt', object='Abdel Fattah el-Sisi', placeholders={'<var>': '2015', '<role>': 'President'}),\n",
       " Sample(subject='Albania', object='Edi Rama', placeholders={'<var>': '2015', '<role>': 'Prime Minister'}),\n",
       " Sample(subject='Turkmenistan', object='Gurbanguly Berdimuhamedow', placeholders={'<var>': '2015', '<role>': 'President'})]"
      ]
     },
     "execution_count": 25,
     "metadata": {},
     "output_type": "execute_result"
    }
   ],
   "source": [
    "relation.samples"
   ]
  },
  {
   "cell_type": "code",
   "execution_count": 26,
   "metadata": {},
   "outputs": [
    {
     "data": {
      "text/plain": [
       "[[PredictedToken(token=' Sheikh', prob=0.5564688444137573),\n",
       "  PredictedToken(token='\\n', prob=0.04031047224998474),\n",
       "  PredictedToken(token=' She', prob=0.03699096664786339),\n",
       "  PredictedToken(token=':\\n', prob=0.02332991175353527),\n",
       "  PredictedToken(token=' Mr', prob=0.022789472714066505)]]"
      ]
     },
     "execution_count": 26,
     "metadata": {},
     "output_type": "execute_result"
    }
   ],
   "source": [
    "functional.predict_next_token(\n",
    "    mt = mt,\n",
    "    prompt = \"The name of the Prime Minister in Bangladesh in the year 2015 is\"\n",
    ")"
   ]
  },
  {
   "cell_type": "code",
   "execution_count": null,
   "metadata": {},
   "outputs": [],
   "source": []
  }
 ],
 "metadata": {
  "kernelspec": {
   "display_name": "Python 3",
   "language": "python",
   "name": "python3"
  },
  "language_info": {
   "codemirror_mode": {
    "name": "ipython",
    "version": 3
   },
   "file_extension": ".py",
   "mimetype": "text/x-python",
   "name": "python",
   "nbconvert_exporter": "python",
   "pygments_lexer": "ipython3",
   "version": "3.10.13"
  }
 },
 "nbformat": 4,
 "nbformat_minor": 2
}
