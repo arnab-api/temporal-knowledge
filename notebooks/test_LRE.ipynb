{
 "cells": [
  {
   "cell_type": "code",
   "execution_count": 1,
   "metadata": {},
   "outputs": [],
   "source": [
    "%load_ext autoreload\n",
    "%autoreload 2"
   ]
  },
  {
   "cell_type": "code",
   "execution_count": 2,
   "metadata": {},
   "outputs": [],
   "source": [
    "import sys\n",
    "\n",
    "sys.path.append(\"../\")\n",
    "import copy\n",
    "\n",
    "import logging\n",
    "from src.utils import logging_utils\n",
    "from src import functional\n",
    "from src.models import ModelandTokenizer\n",
    "from src.dataset import load_dataset, load_relation, fill_template\n",
    "\n",
    "\n",
    "logger = logging.getLogger(__name__)\n",
    "\n",
    "logging.basicConfig(\n",
    "    level=logging.INFO,\n",
    "    format=logging_utils.DEFAULT_FORMAT,\n",
    "    datefmt=logging_utils.DEFAULT_DATEFMT,\n",
    "    stream=sys.stdout,\n",
    ")"
   ]
  },
  {
   "cell_type": "code",
   "execution_count": 3,
   "metadata": {},
   "outputs": [
    {
     "data": {
      "application/vnd.jupyter.widget-view+json": {
       "model_id": "ff3994f9da6e437db51d3a0eeaa3b7c9",
       "version_major": 2,
       "version_minor": 0
      },
      "text/plain": [
       "Loading checkpoint shards:   0%|          | 0/2 [00:00<?, ?it/s]"
      ]
     },
     "metadata": {},
     "output_type": "display_data"
    },
    {
     "name": "stdout",
     "output_type": "stream",
     "text": [
      "2023-12-12 19:20:15 src.models INFO     loaded model <meta-llama/Llama-2-7b-hf> | size: 12980.516 MB\n"
     ]
    }
   ],
   "source": [
    "from src.models import ModelandTokenizer\n",
    "\n",
    "model_name = \"meta-llama/Llama-2-7b-hf\"\n",
    "mt = ModelandTokenizer(model_path=model_name)"
   ]
  },
  {
   "cell_type": "code",
   "execution_count": 4,
   "metadata": {},
   "outputs": [
    {
     "name": "stdout",
     "output_type": "stream",
     "text": [
      "2023-12-12 19:20:16 src.dataset INFO     initialized relation -> \"head of government\" with 500 samples\n",
      "2023-12-12 19:20:30 src.functional INFO     filtered relation \"head of government\" to 183 samples (with 0-shots)\n",
      "2023-12-12 19:20:47 src.functional INFO     filtered relation \"head of government\" to 360 samples (with 5-shots)\n"
     ]
    }
   ],
   "source": [
    "relation = load_relation(\n",
    "    relation_file = \"head_of_government.json\",\n",
    "    num_icl = 0,                          # initialize with zero-shot\n",
    "    default_path=\"../data\",\n",
    "    batch_size=500\n",
    ")\n",
    "\n",
    "all_samples = copy.deepcopy(relation.samples)\n",
    "\n",
    "# filter zero-shot model knowledge\n",
    "relation = functional.filter_samples_by_model_knowledge(\n",
    "    mt = mt,\n",
    "    relation = relation,\n",
    ")\n",
    "\n",
    "relation.properties[\"num_icl\"] = 5\n",
    "relation.select_icl_examples(num_icl=5)\n",
    "\n",
    "relation.samples = all_samples\n",
    "\n",
    "# filter model knowledge with `num_icl` shots\n",
    "relation = functional.filter_samples_by_model_knowledge(\n",
    "    mt = mt,\n",
    "    relation = relation,\n",
    ")"
   ]
  },
  {
   "cell_type": "code",
   "execution_count": 8,
   "metadata": {},
   "outputs": [],
   "source": [
    "from relations.src.operators import JacobianIclMeanEstimator\n",
    "import relations.src.functional as relations_functional\n",
    "\n",
    "# relations_functional.make_prompt = functional.make_prompt"
   ]
  },
  {
   "cell_type": "code",
   "execution_count": null,
   "metadata": {},
   "outputs": [],
   "source": []
  }
 ],
 "metadata": {
  "kernelspec": {
   "display_name": "Python 3",
   "language": "python",
   "name": "python3"
  },
  "language_info": {
   "codemirror_mode": {
    "name": "ipython",
    "version": 3
   },
   "file_extension": ".py",
   "mimetype": "text/x-python",
   "name": "python",
   "nbconvert_exporter": "python",
   "pygments_lexer": "ipython3",
   "version": "3.10.11"
  }
 },
 "nbformat": 4,
 "nbformat_minor": 2
}
